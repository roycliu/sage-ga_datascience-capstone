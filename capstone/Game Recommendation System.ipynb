{
 "cells": [
  {
   "cell_type": "markdown",
   "metadata": {},
   "source": [
    "# 🎮 Game Recommender System\n",
    "### A Roy Liu Data Science Capstone Project \n",
    "- roy.liu@sage.com\n",
    "- roycliu@gmail.com"
   ]
  },
  {
   "cell_type": "markdown",
   "metadata": {},
   "source": [
    "### © Dataset Description\n",
    "Dataset Source: Kaggle \n",
    "- [Stem Video Games](https://www.kaggle.com/trolukovich/steam-games-complete-dataset)\n",
    "- [Stem User Behavior](https://www.kaggle.com/tamber/steam-video-games)\n",
    "\n",
    "\n",
    "#### Context\n",
    "Steam is the world's most popular PC Gaming hub, with over 6,000 games and a community of millions of gamers. With a massive collection that includes everything from AAA blockbusters to small indie titles, great discovery tools are a highly valuable asset for Steam. How can we make them better?"
   ]
  },
  {
   "cell_type": "markdown",
   "metadata": {},
   "source": [
    "### 🧰 Import Required Libs"
   ]
  },
  {
   "cell_type": "code",
   "execution_count": 1,
   "metadata": {},
   "outputs": [],
   "source": [
    "import json\n",
    "import numpy as np\n",
    "import pandas as pd\n",
    "import re\n",
    "from scipy import sparse\n",
    "from sklearn.metrics.pairwise import pairwise_distances, cosine_distances, cosine_similarity"
   ]
  },
  {
   "cell_type": "markdown",
   "metadata": {},
   "source": [
    "### 💾 Load & Sanity Check Dataset - Steam User Dataset"
   ]
  },
  {
   "cell_type": "markdown",
   "metadata": {},
   "source": [
    "- 199,999 data rows\n",
    "- 3,600 game titles\n",
    "- 11,350 users\n",
    "- 5 columns\n",
    "    - __user_id__: User ID\n",
    "    - __game_title__: Name of the steam game\n",
    "    - __behavior__: behavior name (purchase/play)\n",
    "    - __hours__: Hours if behavior is play, 1.0 if behavior is purchase"
   ]
  },
  {
   "cell_type": "code",
   "execution_count": 2,
   "metadata": {},
   "outputs": [],
   "source": [
    "df_user_behavior = pd.read_csv(\"../data/steam-200k.csv\")"
   ]
  },
  {
   "cell_type": "code",
   "execution_count": 3,
   "metadata": {},
   "outputs": [
    {
     "data": {
      "text/plain": [
       "(199999, 5)"
      ]
     },
     "execution_count": 3,
     "metadata": {},
     "output_type": "execute_result"
    }
   ],
   "source": [
    "df_user_behavior.shape"
   ]
  },
  {
   "cell_type": "code",
   "execution_count": 4,
   "metadata": {},
   "outputs": [
    {
     "name": "stdout",
     "output_type": "stream",
     "text": [
      "<class 'pandas.core.frame.DataFrame'>\n",
      "RangeIndex: 199999 entries, 0 to 199998\n",
      "Data columns (total 5 columns):\n",
      " #   Column                      Non-Null Count   Dtype  \n",
      "---  ------                      --------------   -----  \n",
      " 0   151603712                   199999 non-null  int64  \n",
      " 1   The Elder Scrolls V Skyrim  199999 non-null  object \n",
      " 2   purchase                    199999 non-null  object \n",
      " 3   1.0                         199999 non-null  float64\n",
      " 4   0                           199999 non-null  int64  \n",
      "dtypes: float64(1), int64(2), object(2)\n",
      "memory usage: 7.6+ MB\n"
     ]
    }
   ],
   "source": [
    "df_user_behavior.info()"
   ]
  },
  {
   "cell_type": "code",
   "execution_count": 5,
   "metadata": {},
   "outputs": [],
   "source": [
    "df_user_behavior.columns = ['user_id', 'game_title', 'behavior', 'hours', 'zero']"
   ]
  },
  {
   "cell_type": "code",
   "execution_count": 6,
   "metadata": {},
   "outputs": [],
   "source": [
    "#we don't need the last column\n",
    "df_user_behavior.drop(['zero'], axis='columns', inplace=True)"
   ]
  },
  {
   "cell_type": "code",
   "execution_count": 7,
   "metadata": {},
   "outputs": [
    {
     "data": {
      "text/plain": [
       "user_id         int64\n",
       "game_title     object\n",
       "behavior       object\n",
       "hours         float64\n",
       "dtype: object"
      ]
     },
     "execution_count": 7,
     "metadata": {},
     "output_type": "execute_result"
    }
   ],
   "source": [
    "df_user_behavior.dtypes"
   ]
  },
  {
   "cell_type": "code",
   "execution_count": 8,
   "metadata": {},
   "outputs": [
    {
     "data": {
      "text/html": [
       "<div>\n",
       "<style scoped>\n",
       "    .dataframe tbody tr th:only-of-type {\n",
       "        vertical-align: middle;\n",
       "    }\n",
       "\n",
       "    .dataframe tbody tr th {\n",
       "        vertical-align: top;\n",
       "    }\n",
       "\n",
       "    .dataframe thead th {\n",
       "        text-align: right;\n",
       "    }\n",
       "</style>\n",
       "<table border=\"1\" class=\"dataframe\">\n",
       "  <thead>\n",
       "    <tr style=\"text-align: right;\">\n",
       "      <th></th>\n",
       "      <th>0</th>\n",
       "      <th>1</th>\n",
       "      <th>2</th>\n",
       "      <th>3</th>\n",
       "      <th>4</th>\n",
       "    </tr>\n",
       "  </thead>\n",
       "  <tbody>\n",
       "    <tr>\n",
       "      <th>user_id</th>\n",
       "      <td>151603712</td>\n",
       "      <td>151603712</td>\n",
       "      <td>151603712</td>\n",
       "      <td>151603712</td>\n",
       "      <td>151603712</td>\n",
       "    </tr>\n",
       "    <tr>\n",
       "      <th>game_title</th>\n",
       "      <td>The Elder Scrolls V Skyrim</td>\n",
       "      <td>Fallout 4</td>\n",
       "      <td>Fallout 4</td>\n",
       "      <td>Spore</td>\n",
       "      <td>Spore</td>\n",
       "    </tr>\n",
       "    <tr>\n",
       "      <th>behavior</th>\n",
       "      <td>play</td>\n",
       "      <td>purchase</td>\n",
       "      <td>play</td>\n",
       "      <td>purchase</td>\n",
       "      <td>play</td>\n",
       "    </tr>\n",
       "    <tr>\n",
       "      <th>hours</th>\n",
       "      <td>273</td>\n",
       "      <td>1</td>\n",
       "      <td>87</td>\n",
       "      <td>1</td>\n",
       "      <td>14.9</td>\n",
       "    </tr>\n",
       "  </tbody>\n",
       "</table>\n",
       "</div>"
      ],
      "text/plain": [
       "                                     0          1          2          3  \\\n",
       "user_id                      151603712  151603712  151603712  151603712   \n",
       "game_title  The Elder Scrolls V Skyrim  Fallout 4  Fallout 4      Spore   \n",
       "behavior                          play   purchase       play   purchase   \n",
       "hours                              273          1         87          1   \n",
       "\n",
       "                    4  \n",
       "user_id     151603712  \n",
       "game_title      Spore  \n",
       "behavior         play  \n",
       "hours            14.9  "
      ]
     },
     "execution_count": 8,
     "metadata": {},
     "output_type": "execute_result"
    }
   ],
   "source": [
    "df_user_behavior.head().T"
   ]
  },
  {
   "cell_type": "code",
   "execution_count": 9,
   "metadata": {},
   "outputs": [
    {
     "name": "stdout",
     "output_type": "stream",
     "text": [
      "5155\n",
      "12393\n"
     ]
    }
   ],
   "source": [
    "print(df_user_behavior['game_title'].nunique())\n",
    "print(df_user_behavior['user_id'].nunique())"
   ]
  },
  {
   "cell_type": "markdown",
   "metadata": {},
   "source": [
    "### 💾 Load & Sanity Check Dataset - Steam Game Dataset"
   ]
  },
  {
   "cell_type": "markdown",
   "metadata": {},
   "source": [
    "- __url__: Url of a game\n",
    "- __types__: type of package - __app, sub or bundle\n",
    "- __name__: Name of a game\n",
    "- __desc_snippet__: short description of a game\n",
    "- __recent_reviews__: recent reviews\n",
    "- __all_reviews__: all reviews\n",
    "- __release_date__: release date\n",
    "- __developer__: developer of a game\n",
    "- __publisher__: publisher or publishers of a game\n",
    "- __popular_tags__: tags\n",
    "- __game_details__: details of a game\n",
    "- __languages__: supported languages\n",
    "- __achievements__: number of achievements\n",
    "- __genre__: genre(s) of a game\n",
    "- __game_description__: game description\n",
    "- __mature_content__: description of mature content in a game\n",
    "- __minimum_requirements__: minimum specs for a game\n",
    "- __recommended_requirements__: recommended specs for a game\n",
    "- __original_price__: price without discount\n",
    "- __discount_price__: price with discount"
   ]
  },
  {
   "cell_type": "code",
   "execution_count": 10,
   "metadata": {},
   "outputs": [],
   "source": [
    "df_game = pd.read_csv(\"../data/steam_games.csv\")"
   ]
  },
  {
   "cell_type": "code",
   "execution_count": 11,
   "metadata": {},
   "outputs": [
    {
     "data": {
      "text/plain": [
       "(40833, 20)"
      ]
     },
     "execution_count": 11,
     "metadata": {},
     "output_type": "execute_result"
    }
   ],
   "source": [
    "df_game.shape"
   ]
  },
  {
   "cell_type": "code",
   "execution_count": 12,
   "metadata": {},
   "outputs": [
    {
     "data": {
      "text/plain": [
       "url                          object\n",
       "types                        object\n",
       "name                         object\n",
       "desc_snippet                 object\n",
       "recent_reviews               object\n",
       "all_reviews                  object\n",
       "release_date                 object\n",
       "developer                    object\n",
       "publisher                    object\n",
       "popular_tags                 object\n",
       "game_details                 object\n",
       "languages                    object\n",
       "achievements                float64\n",
       "genre                        object\n",
       "game_description             object\n",
       "mature_content               object\n",
       "minimum_requirements         object\n",
       "recommended_requirements     object\n",
       "original_price               object\n",
       "discount_price               object\n",
       "dtype: object"
      ]
     },
     "execution_count": 12,
     "metadata": {},
     "output_type": "execute_result"
    }
   ],
   "source": [
    "df_game.dtypes"
   ]
  },
  {
   "cell_type": "code",
   "execution_count": 13,
   "metadata": {},
   "outputs": [],
   "source": [
    "df_game['title_str'] = df_game['name'].astype('unicode')"
   ]
  },
  {
   "cell_type": "markdown",
   "metadata": {},
   "source": [
    "### ✂ Trim Down  Game Title DataFrame"
   ]
  },
  {
   "cell_type": "markdown",
   "metadata": {},
   "source": [
    "For this project, we only need a small portion of steam_games.csv. \n",
    "\n",
    "Let's copy those needed to a smaller DataFrame for the speed of process and limitation deployment"
   ]
  },
  {
   "cell_type": "code",
   "execution_count": 14,
   "metadata": {},
   "outputs": [],
   "source": [
    "df_game_short = df_game[['title_str','url','types','genre','developer']]"
   ]
  },
  {
   "cell_type": "code",
   "execution_count": 15,
   "metadata": {},
   "outputs": [],
   "source": [
    "df_game_short.set_index('title_str',inplace=True)"
   ]
  },
  {
   "cell_type": "code",
   "execution_count": 16,
   "metadata": {},
   "outputs": [
    {
     "data": {
      "text/plain": [
       "url          https://store.steampowered.com/app/8500/EVE_On...\n",
       "types                                                      app\n",
       "genre        Action,Free to Play,Massively Multiplayer,RPG,...\n",
       "developer                                                  CCP\n",
       "Name: EVE Online, dtype: object"
      ]
     },
     "execution_count": 16,
     "metadata": {},
     "output_type": "execute_result"
    }
   ],
   "source": [
    "df_game_short.loc['EVE Online',:]"
   ]
  },
  {
   "cell_type": "code",
   "execution_count": 17,
   "metadata": {},
   "outputs": [
    {
     "data": {
      "text/plain": [
       "Index(['url', 'types', 'genre', 'developer'], dtype='object')"
      ]
     },
     "execution_count": 17,
     "metadata": {},
     "output_type": "execute_result"
    }
   ],
   "source": [
    "df_game_short.columns"
   ]
  },
  {
   "cell_type": "code",
   "execution_count": 18,
   "metadata": {},
   "outputs": [
    {
     "data": {
      "text/plain": [
       "url          object\n",
       "types        object\n",
       "genre        object\n",
       "developer    object\n",
       "dtype: object"
      ]
     },
     "execution_count": 18,
     "metadata": {},
     "output_type": "execute_result"
    }
   ],
   "source": [
    "df_game_short.dtypes"
   ]
  },
  {
   "cell_type": "code",
   "execution_count": 19,
   "metadata": {},
   "outputs": [
    {
     "data": {
      "text/html": [
       "<div>\n",
       "<style scoped>\n",
       "    .dataframe tbody tr th:only-of-type {\n",
       "        vertical-align: middle;\n",
       "    }\n",
       "\n",
       "    .dataframe tbody tr th {\n",
       "        vertical-align: top;\n",
       "    }\n",
       "\n",
       "    .dataframe thead th {\n",
       "        text-align: right;\n",
       "    }\n",
       "</style>\n",
       "<table border=\"1\" class=\"dataframe\">\n",
       "  <thead>\n",
       "    <tr style=\"text-align: right;\">\n",
       "      <th>title_str</th>\n",
       "      <th>Rocksmith® 2014 Edition – Remastered – Evanescence - “Going Under”</th>\n",
       "      <th>Hyperdimension Neptunia Re;Birth3 V Generation / 神次次元ゲイム ネプテューヌRe;Birth3 V CENTURY / 神次次元遊戲 戰機少女 重生3 Ｖ世紀</th>\n",
       "      <th>Fun VR Farm</th>\n",
       "    </tr>\n",
       "  </thead>\n",
       "  <tbody>\n",
       "    <tr>\n",
       "      <th>url</th>\n",
       "      <td>https://store.steampowered.com/app/509711/Rock...</td>\n",
       "      <td>https://store.steampowered.com/app/353270/Hype...</td>\n",
       "      <td>https://store.steampowered.com/app/1007560/Fun...</td>\n",
       "    </tr>\n",
       "    <tr>\n",
       "      <th>types</th>\n",
       "      <td>app</td>\n",
       "      <td>app</td>\n",
       "      <td>app</td>\n",
       "    </tr>\n",
       "    <tr>\n",
       "      <th>genre</th>\n",
       "      <td>Casual,Simulation</td>\n",
       "      <td>RPG,Strategy</td>\n",
       "      <td>Adventure,Indie,Simulation</td>\n",
       "    </tr>\n",
       "    <tr>\n",
       "      <th>developer</th>\n",
       "      <td>Ubisoft - San Francisco</td>\n",
       "      <td>Idea Factory,Compile Heart,Felistella</td>\n",
       "      <td>VR-EXODUS</td>\n",
       "    </tr>\n",
       "  </tbody>\n",
       "</table>\n",
       "</div>"
      ],
      "text/plain": [
       "title_str Rocksmith® 2014 Edition – Remastered – Evanescence - “Going Under”  \\\n",
       "url        https://store.steampowered.com/app/509711/Rock...                   \n",
       "types                                                    app                   \n",
       "genre                                      Casual,Simulation                   \n",
       "developer                            Ubisoft - San Francisco                   \n",
       "\n",
       "title_str Hyperdimension Neptunia Re;Birth3 V Generation / 神次次元ゲイム ネプテューヌRe;Birth3 V CENTURY / 神次次元遊戲 戰機少女 重生3 Ｖ世紀  \\\n",
       "url        https://store.steampowered.com/app/353270/Hype...                                                         \n",
       "types                                                    app                                                         \n",
       "genre                                           RPG,Strategy                                                         \n",
       "developer              Idea Factory,Compile Heart,Felistella                                                         \n",
       "\n",
       "title_str                                        Fun VR Farm  \n",
       "url        https://store.steampowered.com/app/1007560/Fun...  \n",
       "types                                                    app  \n",
       "genre                             Adventure,Indie,Simulation  \n",
       "developer                                          VR-EXODUS  "
      ]
     },
     "execution_count": 19,
     "metadata": {},
     "output_type": "execute_result"
    }
   ],
   "source": [
    "df_game_short.sample(3).T"
   ]
  },
  {
   "cell_type": "markdown",
   "metadata": {},
   "source": [
    "### 📚 Get List of Genres"
   ]
  },
  {
   "cell_type": "code",
   "execution_count": 20,
   "metadata": {},
   "outputs": [],
   "source": [
    "all_genres = [val.strip() for sublist in df_game_short['genre'].dropna().str.split(\",\").tolist() for val in sublist]"
   ]
  },
  {
   "cell_type": "code",
   "execution_count": 21,
   "metadata": {},
   "outputs": [],
   "source": [
    "unique_genres = sorted(list(set(all_genres)))"
   ]
  },
  {
   "cell_type": "code",
   "execution_count": 22,
   "metadata": {},
   "outputs": [
    {
     "data": {
      "text/plain": [
       "34"
      ]
     },
     "execution_count": 22,
     "metadata": {},
     "output_type": "execute_result"
    }
   ],
   "source": [
    "len(unique_genres)"
   ]
  },
  {
   "cell_type": "code",
   "execution_count": 23,
   "metadata": {},
   "outputs": [
    {
     "name": "stdout",
     "output_type": "stream",
     "text": [
      "['360 Video', 'Accounting', 'Action', 'Adventure', 'Animation & Modeling']\n",
      "['Utilities', 'Valve', 'Video Production', 'Violent', 'Web Publishing']\n"
     ]
    }
   ],
   "source": [
    "print(unique_genres[:5])\n",
    "print(unique_genres[-5:])"
   ]
  },
  {
   "cell_type": "code",
   "execution_count": 24,
   "metadata": {},
   "outputs": [],
   "source": [
    "with open('../data/genres.json', 'w') as wfh:\n",
    "    json.dump(unique_genres, wfh)"
   ]
  },
  {
   "cell_type": "code",
   "execution_count": 25,
   "metadata": {},
   "outputs": [],
   "source": [
    "# verify\n",
    "with open('../data/genres.json', 'r') as rfh:\n",
    "    loadedGenres = json.load(rfh) "
   ]
  },
  {
   "cell_type": "code",
   "execution_count": 26,
   "metadata": {},
   "outputs": [
    {
     "name": "stdout",
     "output_type": "stream",
     "text": [
      "<class 'list'>\n",
      "34\n",
      "['360 Video', 'Accounting', 'Action', 'Adventure', 'Animation & Modeling', 'Audio Production', 'Casual', 'Design & Illustration', 'Documentary', 'Early Access', 'Education', 'Free to Play', 'Game Development', 'Gore', 'HTC', 'Indie', 'Massively Multiplayer', 'Movie', 'Nudity', 'Photo Editing', 'RPG', 'Racing', 'Sexual Content', 'Short', 'Simulation', 'Software Training', 'Sports', 'Strategy', 'Tutorial', 'Utilities', 'Valve', 'Video Production', 'Violent', 'Web Publishing']\n"
     ]
    }
   ],
   "source": [
    "print(type(loadedGenres))\n",
    "print(len(loadedGenres))\n",
    "print(loadedGenres)"
   ]
  },
  {
   "cell_type": "code",
   "execution_count": 27,
   "metadata": {},
   "outputs": [],
   "source": [
    "df_game_with_gener = df_game_short[df_game_short['genre'].notnull()]"
   ]
  },
  {
   "cell_type": "code",
   "execution_count": 28,
   "metadata": {},
   "outputs": [
    {
     "data": {
      "text/plain": [
       "0"
      ]
     },
     "execution_count": 28,
     "metadata": {},
     "output_type": "execute_result"
    }
   ],
   "source": [
    "df_game_with_gener['genre'].isnull().sum()"
   ]
  },
  {
   "cell_type": "code",
   "execution_count": 29,
   "metadata": {},
   "outputs": [],
   "source": [
    "g = 'Action'\n",
    "genre_titles = df_game_with_gener[df_game_with_gener['genre'].str.contains(g, flags=re.IGNORECASE)].index"
   ]
  },
  {
   "cell_type": "code",
   "execution_count": 30,
   "metadata": {},
   "outputs": [
    {
     "data": {
      "text/plain": [
       "(40395, 4)"
      ]
     },
     "execution_count": 30,
     "metadata": {},
     "output_type": "execute_result"
    }
   ],
   "source": [
    "df_game_with_gener.shape"
   ]
  },
  {
   "cell_type": "code",
   "execution_count": 31,
   "metadata": {},
   "outputs": [
    {
     "data": {
      "text/plain": [
       "16558"
      ]
     },
     "execution_count": 31,
     "metadata": {},
     "output_type": "execute_result"
    }
   ],
   "source": [
    "len(genre_titles)"
   ]
  },
  {
   "cell_type": "markdown",
   "metadata": {},
   "source": [
    "# 👨‍👨‍👧‍👧👩‍👩‍👧‍👧 Popularity-Based Recommender"
   ]
  },
  {
   "cell_type": "markdown",
   "metadata": {},
   "source": [
    "### 🥇 Most Played 🕙"
   ]
  },
  {
   "cell_type": "code",
   "execution_count": 32,
   "metadata": {},
   "outputs": [],
   "source": [
    "series_game_title_pop = df_user_behavior[df_user_behavior['behavior']=='play'].groupby(['game_title'])['hours'].sum()"
   ]
  },
  {
   "cell_type": "code",
   "execution_count": 33,
   "metadata": {
    "scrolled": true
   },
   "outputs": [
    {
     "name": "stdout",
     "output_type": "stream",
     "text": [
      "Type:<class 'pandas.core.series.Series'>\n",
      "==================================\n"
     ]
    },
    {
     "data": {
      "text/html": [
       "<div>\n",
       "<style scoped>\n",
       "    .dataframe tbody tr th:only-of-type {\n",
       "        vertical-align: middle;\n",
       "    }\n",
       "\n",
       "    .dataframe tbody tr th {\n",
       "        vertical-align: top;\n",
       "    }\n",
       "\n",
       "    .dataframe thead th {\n",
       "        text-align: right;\n",
       "    }\n",
       "</style>\n",
       "<table border=\"1\" class=\"dataframe\">\n",
       "  <thead>\n",
       "    <tr style=\"text-align: right;\">\n",
       "      <th></th>\n",
       "      <th>hours</th>\n",
       "    </tr>\n",
       "    <tr>\n",
       "      <th>game_title</th>\n",
       "      <th></th>\n",
       "    </tr>\n",
       "  </thead>\n",
       "  <tbody>\n",
       "    <tr>\n",
       "      <th>Dota 2</th>\n",
       "      <td>981684.6</td>\n",
       "    </tr>\n",
       "    <tr>\n",
       "      <th>Counter-Strike Global Offensive</th>\n",
       "      <td>322771.6</td>\n",
       "    </tr>\n",
       "    <tr>\n",
       "      <th>Team Fortress 2</th>\n",
       "      <td>173673.3</td>\n",
       "    </tr>\n",
       "    <tr>\n",
       "      <th>Counter-Strike</th>\n",
       "      <td>134261.1</td>\n",
       "    </tr>\n",
       "    <tr>\n",
       "      <th>Sid Meier's Civilization V</th>\n",
       "      <td>99821.3</td>\n",
       "    </tr>\n",
       "    <tr>\n",
       "      <th>Counter-Strike Source</th>\n",
       "      <td>96075.5</td>\n",
       "    </tr>\n",
       "    <tr>\n",
       "      <th>The Elder Scrolls V Skyrim</th>\n",
       "      <td>70889.3</td>\n",
       "    </tr>\n",
       "    <tr>\n",
       "      <th>Garry's Mod</th>\n",
       "      <td>49725.3</td>\n",
       "    </tr>\n",
       "    <tr>\n",
       "      <th>Call of Duty Modern Warfare 2 - Multiplayer</th>\n",
       "      <td>42009.9</td>\n",
       "    </tr>\n",
       "    <tr>\n",
       "      <th>Left 4 Dead 2</th>\n",
       "      <td>33596.7</td>\n",
       "    </tr>\n",
       "  </tbody>\n",
       "</table>\n",
       "</div>"
      ],
      "text/plain": [
       "                                                hours\n",
       "game_title                                           \n",
       "Dota 2                                       981684.6\n",
       "Counter-Strike Global Offensive              322771.6\n",
       "Team Fortress 2                              173673.3\n",
       "Counter-Strike                               134261.1\n",
       "Sid Meier's Civilization V                    99821.3\n",
       "Counter-Strike Source                         96075.5\n",
       "The Elder Scrolls V Skyrim                    70889.3\n",
       "Garry's Mod                                   49725.3\n",
       "Call of Duty Modern Warfare 2 - Multiplayer   42009.9\n",
       "Left 4 Dead 2                                 33596.7"
      ]
     },
     "execution_count": 33,
     "metadata": {},
     "output_type": "execute_result"
    }
   ],
   "source": [
    "print('Type:' + str(type(series_game_title_pop)))\n",
    "print('==================================')\n",
    "df_top10_played = pd.DataFrame(series_game_title_pop.sort_values(ascending=False)[:10])\n",
    "df_top10_played"
   ]
  },
  {
   "cell_type": "markdown",
   "metadata": {},
   "source": [
    "### 🏆 Top Sell 🎁 "
   ]
  },
  {
   "cell_type": "code",
   "execution_count": 34,
   "metadata": {},
   "outputs": [],
   "source": [
    "series_game_title_sell = df_user_behavior[df_user_behavior['behavior']=='purchase'].groupby(['game_title'])['hours'].sum()"
   ]
  },
  {
   "cell_type": "code",
   "execution_count": 35,
   "metadata": {},
   "outputs": [
    {
     "name": "stdout",
     "output_type": "stream",
     "text": [
      "Type:<class 'pandas.core.series.Series'>\n",
      "==================================\n"
     ]
    },
    {
     "data": {
      "text/html": [
       "<div>\n",
       "<style scoped>\n",
       "    .dataframe tbody tr th:only-of-type {\n",
       "        vertical-align: middle;\n",
       "    }\n",
       "\n",
       "    .dataframe tbody tr th {\n",
       "        vertical-align: top;\n",
       "    }\n",
       "\n",
       "    .dataframe thead th {\n",
       "        text-align: right;\n",
       "    }\n",
       "</style>\n",
       "<table border=\"1\" class=\"dataframe\">\n",
       "  <thead>\n",
       "    <tr style=\"text-align: right;\">\n",
       "      <th></th>\n",
       "      <th>hours</th>\n",
       "    </tr>\n",
       "    <tr>\n",
       "      <th>game_title</th>\n",
       "      <th></th>\n",
       "    </tr>\n",
       "  </thead>\n",
       "  <tbody>\n",
       "    <tr>\n",
       "      <th>Dota 2</th>\n",
       "      <td>4841.0</td>\n",
       "    </tr>\n",
       "    <tr>\n",
       "      <th>Team Fortress 2</th>\n",
       "      <td>2323.0</td>\n",
       "    </tr>\n",
       "    <tr>\n",
       "      <th>Unturned</th>\n",
       "      <td>1563.0</td>\n",
       "    </tr>\n",
       "    <tr>\n",
       "      <th>Counter-Strike Global Offensive</th>\n",
       "      <td>1412.0</td>\n",
       "    </tr>\n",
       "    <tr>\n",
       "      <th>Half-Life 2 Lost Coast</th>\n",
       "      <td>981.0</td>\n",
       "    </tr>\n",
       "    <tr>\n",
       "      <th>Counter-Strike Source</th>\n",
       "      <td>978.0</td>\n",
       "    </tr>\n",
       "    <tr>\n",
       "      <th>Left 4 Dead 2</th>\n",
       "      <td>951.0</td>\n",
       "    </tr>\n",
       "    <tr>\n",
       "      <th>Counter-Strike</th>\n",
       "      <td>856.0</td>\n",
       "    </tr>\n",
       "    <tr>\n",
       "      <th>Warframe</th>\n",
       "      <td>847.0</td>\n",
       "    </tr>\n",
       "    <tr>\n",
       "      <th>Half-Life 2 Deathmatch</th>\n",
       "      <td>823.0</td>\n",
       "    </tr>\n",
       "  </tbody>\n",
       "</table>\n",
       "</div>"
      ],
      "text/plain": [
       "                                  hours\n",
       "game_title                             \n",
       "Dota 2                           4841.0\n",
       "Team Fortress 2                  2323.0\n",
       "Unturned                         1563.0\n",
       "Counter-Strike Global Offensive  1412.0\n",
       "Half-Life 2 Lost Coast            981.0\n",
       "Counter-Strike Source             978.0\n",
       "Left 4 Dead 2                     951.0\n",
       "Counter-Strike                    856.0\n",
       "Warframe                          847.0\n",
       "Half-Life 2 Deathmatch            823.0"
      ]
     },
     "execution_count": 35,
     "metadata": {},
     "output_type": "execute_result"
    }
   ],
   "source": [
    "print('Type:' + str(type(series_game_title_pop)))\n",
    "print('==================================')\n",
    "df_top10_sell = pd.DataFrame(series_game_title_sell.sort_values(ascending=False)[:10])\n",
    "df_top10_sell"
   ]
  },
  {
   "cell_type": "markdown",
   "metadata": {},
   "source": [
    "# 🛒Item-Based Collaborative Recommender"
   ]
  },
  {
   "cell_type": "markdown",
   "metadata": {},
   "source": [
    "#### 💡 Tech Tip:\n",
    "Filtering columns can be achieved using either \n",
    "- __drop__( ) function, *or*\n",
    "- __double-bracket__ selection"
   ]
  },
  {
   "cell_type": "markdown",
   "metadata": {},
   "source": [
    "### Create Pivot Table\n",
    "Since this is an item-based collaborative recommendar system, game title will be pivot index, user_ids will be the columns, and behavior as the rating value assuming the longer hours an user plays the higher the rate the user would give."
   ]
  },
  {
   "cell_type": "code",
   "execution_count": 36,
   "metadata": {},
   "outputs": [],
   "source": [
    "df_user_behavior = df_user_behavior[df_user_behavior['behavior'] == 'play']"
   ]
  },
  {
   "cell_type": "code",
   "execution_count": 37,
   "metadata": {},
   "outputs": [
    {
     "data": {
      "text/html": [
       "<div>\n",
       "<style scoped>\n",
       "    .dataframe tbody tr th:only-of-type {\n",
       "        vertical-align: middle;\n",
       "    }\n",
       "\n",
       "    .dataframe tbody tr th {\n",
       "        vertical-align: top;\n",
       "    }\n",
       "\n",
       "    .dataframe thead th {\n",
       "        text-align: right;\n",
       "    }\n",
       "</style>\n",
       "<table border=\"1\" class=\"dataframe\">\n",
       "  <thead>\n",
       "    <tr style=\"text-align: right;\">\n",
       "      <th></th>\n",
       "      <th>user_id</th>\n",
       "      <th>game_title</th>\n",
       "      <th>behavior</th>\n",
       "      <th>hours</th>\n",
       "    </tr>\n",
       "  </thead>\n",
       "  <tbody>\n",
       "    <tr>\n",
       "      <th>101526</th>\n",
       "      <td>177827103</td>\n",
       "      <td>Dota 2</td>\n",
       "      <td>play</td>\n",
       "      <td>1253.0</td>\n",
       "    </tr>\n",
       "    <tr>\n",
       "      <th>165667</th>\n",
       "      <td>154425908</td>\n",
       "      <td>Wasteland 1 - The Original Classic</td>\n",
       "      <td>play</td>\n",
       "      <td>6.3</td>\n",
       "    </tr>\n",
       "    <tr>\n",
       "      <th>22553</th>\n",
       "      <td>65420540</td>\n",
       "      <td>Borderlands 2</td>\n",
       "      <td>play</td>\n",
       "      <td>15.7</td>\n",
       "    </tr>\n",
       "    <tr>\n",
       "      <th>103318</th>\n",
       "      <td>46785501</td>\n",
       "      <td>Age of Mythology Extended Edition</td>\n",
       "      <td>play</td>\n",
       "      <td>22.0</td>\n",
       "    </tr>\n",
       "    <tr>\n",
       "      <th>24592</th>\n",
       "      <td>69009454</td>\n",
       "      <td>Borderlands 2</td>\n",
       "      <td>play</td>\n",
       "      <td>121.0</td>\n",
       "    </tr>\n",
       "  </tbody>\n",
       "</table>\n",
       "</div>"
      ],
      "text/plain": [
       "          user_id                          game_title behavior   hours\n",
       "101526  177827103                              Dota 2     play  1253.0\n",
       "165667  154425908  Wasteland 1 - The Original Classic     play     6.3\n",
       "22553    65420540                       Borderlands 2     play    15.7\n",
       "103318   46785501   Age of Mythology Extended Edition     play    22.0\n",
       "24592    69009454                       Borderlands 2     play   121.0"
      ]
     },
     "execution_count": 37,
     "metadata": {},
     "output_type": "execute_result"
    }
   ],
   "source": [
    "df_user_behavior.sample(5)"
   ]
  },
  {
   "cell_type": "markdown",
   "metadata": {},
   "source": [
    "### Remove duplicate rows\n",
    "Getting the following error message when building pivot table, so let we try  to identify and remove duplicates\n",
    "\n",
    "🛑 ```Index contains duplicate entries, cannot reshape```\n",
    "\n",
    "```pivot = pd.pivot(df_user_behavior, index='game_title', columns='user_id', values='hours')```\n"
   ]
  },
  {
   "cell_type": "code",
   "execution_count": 38,
   "metadata": {},
   "outputs": [],
   "source": [
    "duplicateRows = df_user_behavior[df_user_behavior.duplicated()]"
   ]
  },
  {
   "cell_type": "code",
   "execution_count": 39,
   "metadata": {},
   "outputs": [
    {
     "data": {
      "text/plain": [
       "(0, 4)"
      ]
     },
     "execution_count": 39,
     "metadata": {},
     "output_type": "execute_result"
    }
   ],
   "source": [
    "duplicateRows.shape"
   ]
  },
  {
   "cell_type": "markdown",
   "metadata": {},
   "source": [
    "### ❓ No duplicates found\n",
    "somehow no duplicate rows are identified\n",
    "so will try other approach"
   ]
  },
  {
   "cell_type": "markdown",
   "metadata": {},
   "source": [
    "### 🔧 Convert __game_title__ object column to string type"
   ]
  },
  {
   "cell_type": "code",
   "execution_count": 40,
   "metadata": {},
   "outputs": [],
   "source": [
    "# df_user_behavior['title_str'] = df_user_behavior['game_title'].astype(\"|S\")\n",
    "df_user_behavior['title_str'] = df_user_behavior['game_title'].astype(\"unicode\")"
   ]
  },
  {
   "cell_type": "code",
   "execution_count": 41,
   "metadata": {},
   "outputs": [
    {
     "name": "stdout",
     "output_type": "stream",
     "text": [
      "object\n"
     ]
    },
    {
     "data": {
      "text/plain": [
       "0         The Elder Scrolls V Skyrim\n",
       "2                          Fallout 4\n",
       "4                              Spore\n",
       "6                  Fallout New Vegas\n",
       "8                      Left 4 Dead 2\n",
       "                     ...            \n",
       "199990                  Fallen Earth\n",
       "199992                   Magic Duels\n",
       "199994                   Titan Souls\n",
       "199996    Grand Theft Auto Vice City\n",
       "199998                          RUSH\n",
       "Name: title_str, Length: 70489, dtype: object"
      ]
     },
     "execution_count": 41,
     "metadata": {},
     "output_type": "execute_result"
    }
   ],
   "source": [
    "print(df_user_behavior['title_str'].dtype)\n",
    "df_user_behavior['title_str']"
   ]
  },
  {
   "cell_type": "code",
   "execution_count": 42,
   "metadata": {},
   "outputs": [
    {
     "data": {
      "text/html": [
       "<div>\n",
       "<style scoped>\n",
       "    .dataframe tbody tr th:only-of-type {\n",
       "        vertical-align: middle;\n",
       "    }\n",
       "\n",
       "    .dataframe tbody tr th {\n",
       "        vertical-align: top;\n",
       "    }\n",
       "\n",
       "    .dataframe thead th {\n",
       "        text-align: right;\n",
       "    }\n",
       "</style>\n",
       "<table border=\"1\" class=\"dataframe\">\n",
       "  <thead>\n",
       "    <tr style=\"text-align: right;\">\n",
       "      <th></th>\n",
       "      <th>123347</th>\n",
       "      <th>130617</th>\n",
       "      <th>79770</th>\n",
       "      <th>29067</th>\n",
       "      <th>27105</th>\n",
       "    </tr>\n",
       "  </thead>\n",
       "  <tbody>\n",
       "    <tr>\n",
       "      <th>user_id</th>\n",
       "      <td>295981434</td>\n",
       "      <td>70915652</td>\n",
       "      <td>120523185</td>\n",
       "      <td>11403772</td>\n",
       "      <td>80779496</td>\n",
       "    </tr>\n",
       "    <tr>\n",
       "      <th>game_title</th>\n",
       "      <td>HuniePop</td>\n",
       "      <td>PC Gamer</td>\n",
       "      <td>Trine 2</td>\n",
       "      <td>Divinity Dragon Commander</td>\n",
       "      <td>Star Wars Knights of the Old Republic</td>\n",
       "    </tr>\n",
       "    <tr>\n",
       "      <th>behavior</th>\n",
       "      <td>play</td>\n",
       "      <td>play</td>\n",
       "      <td>play</td>\n",
       "      <td>play</td>\n",
       "      <td>play</td>\n",
       "    </tr>\n",
       "    <tr>\n",
       "      <th>hours</th>\n",
       "      <td>13.2</td>\n",
       "      <td>0.2</td>\n",
       "      <td>15.1</td>\n",
       "      <td>11.5</td>\n",
       "      <td>0.3</td>\n",
       "    </tr>\n",
       "    <tr>\n",
       "      <th>title_str</th>\n",
       "      <td>HuniePop</td>\n",
       "      <td>PC Gamer</td>\n",
       "      <td>Trine 2</td>\n",
       "      <td>Divinity Dragon Commander</td>\n",
       "      <td>Star Wars Knights of the Old Republic</td>\n",
       "    </tr>\n",
       "  </tbody>\n",
       "</table>\n",
       "</div>"
      ],
      "text/plain": [
       "               123347    130617     79770                      29067   \\\n",
       "user_id     295981434  70915652  120523185                   11403772   \n",
       "game_title   HuniePop  PC Gamer    Trine 2  Divinity Dragon Commander   \n",
       "behavior         play      play       play                       play   \n",
       "hours            13.2       0.2       15.1                       11.5   \n",
       "title_str    HuniePop  PC Gamer    Trine 2  Divinity Dragon Commander   \n",
       "\n",
       "                                           27105   \n",
       "user_id                                  80779496  \n",
       "game_title  Star Wars Knights of the Old Republic  \n",
       "behavior                                     play  \n",
       "hours                                         0.3  \n",
       "title_str   Star Wars Knights of the Old Republic  "
      ]
     },
     "execution_count": 42,
     "metadata": {},
     "output_type": "execute_result"
    }
   ],
   "source": [
    "df_user_behavior.sample(5).T"
   ]
  },
  {
   "cell_type": "code",
   "execution_count": 43,
   "metadata": {},
   "outputs": [
    {
     "data": {
      "text/plain": [
       "user_id         int64\n",
       "game_title     object\n",
       "behavior       object\n",
       "hours         float64\n",
       "title_str      object\n",
       "dtype: object"
      ]
     },
     "execution_count": 43,
     "metadata": {},
     "output_type": "execute_result"
    }
   ],
   "source": [
    "df_user_behavior.dtypes"
   ]
  },
  {
   "cell_type": "code",
   "execution_count": 44,
   "metadata": {},
   "outputs": [],
   "source": [
    "df_ub_short = df_user_behavior[['user_id','title_str','hours']]"
   ]
  },
  {
   "cell_type": "code",
   "execution_count": 45,
   "metadata": {},
   "outputs": [
    {
     "data": {
      "text/html": [
       "<div>\n",
       "<style scoped>\n",
       "    .dataframe tbody tr th:only-of-type {\n",
       "        vertical-align: middle;\n",
       "    }\n",
       "\n",
       "    .dataframe tbody tr th {\n",
       "        vertical-align: top;\n",
       "    }\n",
       "\n",
       "    .dataframe thead th {\n",
       "        text-align: right;\n",
       "    }\n",
       "</style>\n",
       "<table border=\"1\" class=\"dataframe\">\n",
       "  <thead>\n",
       "    <tr style=\"text-align: right;\">\n",
       "      <th></th>\n",
       "      <th>user_id</th>\n",
       "      <th>title_str</th>\n",
       "      <th>hours</th>\n",
       "    </tr>\n",
       "  </thead>\n",
       "  <tbody>\n",
       "    <tr>\n",
       "      <th>0</th>\n",
       "      <td>151603712</td>\n",
       "      <td>The Elder Scrolls V Skyrim</td>\n",
       "      <td>273.0</td>\n",
       "    </tr>\n",
       "    <tr>\n",
       "      <th>2</th>\n",
       "      <td>151603712</td>\n",
       "      <td>Fallout 4</td>\n",
       "      <td>87.0</td>\n",
       "    </tr>\n",
       "    <tr>\n",
       "      <th>4</th>\n",
       "      <td>151603712</td>\n",
       "      <td>Spore</td>\n",
       "      <td>14.9</td>\n",
       "    </tr>\n",
       "    <tr>\n",
       "      <th>6</th>\n",
       "      <td>151603712</td>\n",
       "      <td>Fallout New Vegas</td>\n",
       "      <td>12.1</td>\n",
       "    </tr>\n",
       "    <tr>\n",
       "      <th>8</th>\n",
       "      <td>151603712</td>\n",
       "      <td>Left 4 Dead 2</td>\n",
       "      <td>8.9</td>\n",
       "    </tr>\n",
       "    <tr>\n",
       "      <th>...</th>\n",
       "      <td>...</td>\n",
       "      <td>...</td>\n",
       "      <td>...</td>\n",
       "    </tr>\n",
       "    <tr>\n",
       "      <th>199990</th>\n",
       "      <td>128470551</td>\n",
       "      <td>Fallen Earth</td>\n",
       "      <td>2.4</td>\n",
       "    </tr>\n",
       "    <tr>\n",
       "      <th>199992</th>\n",
       "      <td>128470551</td>\n",
       "      <td>Magic Duels</td>\n",
       "      <td>2.2</td>\n",
       "    </tr>\n",
       "    <tr>\n",
       "      <th>199994</th>\n",
       "      <td>128470551</td>\n",
       "      <td>Titan Souls</td>\n",
       "      <td>1.5</td>\n",
       "    </tr>\n",
       "    <tr>\n",
       "      <th>199996</th>\n",
       "      <td>128470551</td>\n",
       "      <td>Grand Theft Auto Vice City</td>\n",
       "      <td>1.5</td>\n",
       "    </tr>\n",
       "    <tr>\n",
       "      <th>199998</th>\n",
       "      <td>128470551</td>\n",
       "      <td>RUSH</td>\n",
       "      <td>1.4</td>\n",
       "    </tr>\n",
       "  </tbody>\n",
       "</table>\n",
       "<p>70489 rows × 3 columns</p>\n",
       "</div>"
      ],
      "text/plain": [
       "          user_id                   title_str  hours\n",
       "0       151603712  The Elder Scrolls V Skyrim  273.0\n",
       "2       151603712                   Fallout 4   87.0\n",
       "4       151603712                       Spore   14.9\n",
       "6       151603712           Fallout New Vegas   12.1\n",
       "8       151603712               Left 4 Dead 2    8.9\n",
       "...           ...                         ...    ...\n",
       "199990  128470551                Fallen Earth    2.4\n",
       "199992  128470551                 Magic Duels    2.2\n",
       "199994  128470551                 Titan Souls    1.5\n",
       "199996  128470551  Grand Theft Auto Vice City    1.5\n",
       "199998  128470551                        RUSH    1.4\n",
       "\n",
       "[70489 rows x 3 columns]"
      ]
     },
     "execution_count": 45,
     "metadata": {},
     "output_type": "execute_result"
    }
   ],
   "source": [
    "df_ub_short"
   ]
  },
  {
   "cell_type": "code",
   "execution_count": 46,
   "metadata": {},
   "outputs": [],
   "source": [
    "pivot_game = pd.pivot_table(df_ub_short, index='title_str', columns='user_id', values='hours')"
   ]
  },
  {
   "cell_type": "code",
   "execution_count": 47,
   "metadata": {},
   "outputs": [
    {
     "data": {
      "text/plain": [
       "(3600, 11350)"
      ]
     },
     "execution_count": 47,
     "metadata": {},
     "output_type": "execute_result"
    }
   ],
   "source": [
    "pivot_game.shape"
   ]
  },
  {
   "cell_type": "markdown",
   "metadata": {},
   "source": [
    "#### 🤨 pivot table is created\n",
    "somehow the same error won't show up if \n",
    "- convert __game_title__ column seperately\n",
    "- drop all unnecessary columns\n",
    "\n",
    "😒 ps, althought problem is resolved, but not sure about the what is the exact solution and root cause yet..\n",
    "\n",
    "Will spend time to drill down to the root cause before (if have sufficient time) or after the capstone project due date"
   ]
  },
  {
   "cell_type": "code",
   "execution_count": 48,
   "metadata": {},
   "outputs": [
    {
     "data": {
      "text/html": [
       "<div>\n",
       "<style scoped>\n",
       "    .dataframe tbody tr th:only-of-type {\n",
       "        vertical-align: middle;\n",
       "    }\n",
       "\n",
       "    .dataframe tbody tr th {\n",
       "        vertical-align: top;\n",
       "    }\n",
       "\n",
       "    .dataframe thead th {\n",
       "        text-align: right;\n",
       "    }\n",
       "</style>\n",
       "<table border=\"1\" class=\"dataframe\">\n",
       "  <thead>\n",
       "    <tr style=\"text-align: right;\">\n",
       "      <th>user_id</th>\n",
       "      <th>5250</th>\n",
       "      <th>76767</th>\n",
       "      <th>86540</th>\n",
       "      <th>144736</th>\n",
       "      <th>181212</th>\n",
       "      <th>229911</th>\n",
       "      <th>298950</th>\n",
       "      <th>381543</th>\n",
       "      <th>547685</th>\n",
       "      <th>554278</th>\n",
       "      <th>...</th>\n",
       "      <th>309228590</th>\n",
       "      <th>309255941</th>\n",
       "      <th>309262440</th>\n",
       "      <th>309265377</th>\n",
       "      <th>309404240</th>\n",
       "      <th>309434439</th>\n",
       "      <th>309554670</th>\n",
       "      <th>309626088</th>\n",
       "      <th>309824202</th>\n",
       "      <th>309903146</th>\n",
       "    </tr>\n",
       "    <tr>\n",
       "      <th>title_str</th>\n",
       "      <th></th>\n",
       "      <th></th>\n",
       "      <th></th>\n",
       "      <th></th>\n",
       "      <th></th>\n",
       "      <th></th>\n",
       "      <th></th>\n",
       "      <th></th>\n",
       "      <th></th>\n",
       "      <th></th>\n",
       "      <th></th>\n",
       "      <th></th>\n",
       "      <th></th>\n",
       "      <th></th>\n",
       "      <th></th>\n",
       "      <th></th>\n",
       "      <th></th>\n",
       "      <th></th>\n",
       "      <th></th>\n",
       "      <th></th>\n",
       "      <th></th>\n",
       "    </tr>\n",
       "  </thead>\n",
       "  <tbody>\n",
       "    <tr>\n",
       "      <th>FarSky</th>\n",
       "      <td>NaN</td>\n",
       "      <td>NaN</td>\n",
       "      <td>NaN</td>\n",
       "      <td>NaN</td>\n",
       "      <td>NaN</td>\n",
       "      <td>NaN</td>\n",
       "      <td>NaN</td>\n",
       "      <td>NaN</td>\n",
       "      <td>NaN</td>\n",
       "      <td>NaN</td>\n",
       "      <td>...</td>\n",
       "      <td>NaN</td>\n",
       "      <td>NaN</td>\n",
       "      <td>NaN</td>\n",
       "      <td>NaN</td>\n",
       "      <td>NaN</td>\n",
       "      <td>NaN</td>\n",
       "      <td>NaN</td>\n",
       "      <td>NaN</td>\n",
       "      <td>NaN</td>\n",
       "      <td>NaN</td>\n",
       "    </tr>\n",
       "    <tr>\n",
       "      <th>Tabletop Simulator</th>\n",
       "      <td>NaN</td>\n",
       "      <td>NaN</td>\n",
       "      <td>NaN</td>\n",
       "      <td>NaN</td>\n",
       "      <td>NaN</td>\n",
       "      <td>NaN</td>\n",
       "      <td>NaN</td>\n",
       "      <td>NaN</td>\n",
       "      <td>NaN</td>\n",
       "      <td>NaN</td>\n",
       "      <td>...</td>\n",
       "      <td>NaN</td>\n",
       "      <td>NaN</td>\n",
       "      <td>NaN</td>\n",
       "      <td>NaN</td>\n",
       "      <td>NaN</td>\n",
       "      <td>NaN</td>\n",
       "      <td>NaN</td>\n",
       "      <td>NaN</td>\n",
       "      <td>NaN</td>\n",
       "      <td>NaN</td>\n",
       "    </tr>\n",
       "    <tr>\n",
       "      <th>Toy Soldiers</th>\n",
       "      <td>NaN</td>\n",
       "      <td>NaN</td>\n",
       "      <td>NaN</td>\n",
       "      <td>NaN</td>\n",
       "      <td>NaN</td>\n",
       "      <td>NaN</td>\n",
       "      <td>NaN</td>\n",
       "      <td>NaN</td>\n",
       "      <td>NaN</td>\n",
       "      <td>NaN</td>\n",
       "      <td>...</td>\n",
       "      <td>NaN</td>\n",
       "      <td>NaN</td>\n",
       "      <td>NaN</td>\n",
       "      <td>NaN</td>\n",
       "      <td>NaN</td>\n",
       "      <td>NaN</td>\n",
       "      <td>NaN</td>\n",
       "      <td>NaN</td>\n",
       "      <td>NaN</td>\n",
       "      <td>NaN</td>\n",
       "    </tr>\n",
       "    <tr>\n",
       "      <th>Tales of Maj'Eyal</th>\n",
       "      <td>NaN</td>\n",
       "      <td>NaN</td>\n",
       "      <td>NaN</td>\n",
       "      <td>NaN</td>\n",
       "      <td>NaN</td>\n",
       "      <td>NaN</td>\n",
       "      <td>NaN</td>\n",
       "      <td>NaN</td>\n",
       "      <td>NaN</td>\n",
       "      <td>NaN</td>\n",
       "      <td>...</td>\n",
       "      <td>NaN</td>\n",
       "      <td>NaN</td>\n",
       "      <td>NaN</td>\n",
       "      <td>NaN</td>\n",
       "      <td>NaN</td>\n",
       "      <td>NaN</td>\n",
       "      <td>NaN</td>\n",
       "      <td>NaN</td>\n",
       "      <td>NaN</td>\n",
       "      <td>NaN</td>\n",
       "    </tr>\n",
       "    <tr>\n",
       "      <th>You Need A Budget 4 (YNAB)</th>\n",
       "      <td>NaN</td>\n",
       "      <td>NaN</td>\n",
       "      <td>NaN</td>\n",
       "      <td>NaN</td>\n",
       "      <td>NaN</td>\n",
       "      <td>NaN</td>\n",
       "      <td>NaN</td>\n",
       "      <td>NaN</td>\n",
       "      <td>NaN</td>\n",
       "      <td>NaN</td>\n",
       "      <td>...</td>\n",
       "      <td>NaN</td>\n",
       "      <td>NaN</td>\n",
       "      <td>NaN</td>\n",
       "      <td>NaN</td>\n",
       "      <td>NaN</td>\n",
       "      <td>NaN</td>\n",
       "      <td>NaN</td>\n",
       "      <td>NaN</td>\n",
       "      <td>NaN</td>\n",
       "      <td>NaN</td>\n",
       "    </tr>\n",
       "  </tbody>\n",
       "</table>\n",
       "<p>5 rows × 11350 columns</p>\n",
       "</div>"
      ],
      "text/plain": [
       "user_id                     5250       76767      86540      144736     \\\n",
       "title_str                                                                \n",
       "FarSky                            NaN        NaN        NaN        NaN   \n",
       "Tabletop Simulator                NaN        NaN        NaN        NaN   \n",
       "Toy Soldiers                      NaN        NaN        NaN        NaN   \n",
       "Tales of Maj'Eyal                 NaN        NaN        NaN        NaN   \n",
       "You Need A Budget 4 (YNAB)        NaN        NaN        NaN        NaN   \n",
       "\n",
       "user_id                     181212     229911     298950     381543     \\\n",
       "title_str                                                                \n",
       "FarSky                            NaN        NaN        NaN        NaN   \n",
       "Tabletop Simulator                NaN        NaN        NaN        NaN   \n",
       "Toy Soldiers                      NaN        NaN        NaN        NaN   \n",
       "Tales of Maj'Eyal                 NaN        NaN        NaN        NaN   \n",
       "You Need A Budget 4 (YNAB)        NaN        NaN        NaN        NaN   \n",
       "\n",
       "user_id                     547685     554278     ...  309228590  309255941  \\\n",
       "title_str                                         ...                         \n",
       "FarSky                            NaN        NaN  ...        NaN        NaN   \n",
       "Tabletop Simulator                NaN        NaN  ...        NaN        NaN   \n",
       "Toy Soldiers                      NaN        NaN  ...        NaN        NaN   \n",
       "Tales of Maj'Eyal                 NaN        NaN  ...        NaN        NaN   \n",
       "You Need A Budget 4 (YNAB)        NaN        NaN  ...        NaN        NaN   \n",
       "\n",
       "user_id                     309262440  309265377  309404240  309434439  \\\n",
       "title_str                                                                \n",
       "FarSky                            NaN        NaN        NaN        NaN   \n",
       "Tabletop Simulator                NaN        NaN        NaN        NaN   \n",
       "Toy Soldiers                      NaN        NaN        NaN        NaN   \n",
       "Tales of Maj'Eyal                 NaN        NaN        NaN        NaN   \n",
       "You Need A Budget 4 (YNAB)        NaN        NaN        NaN        NaN   \n",
       "\n",
       "user_id                     309554670  309626088  309824202  309903146  \n",
       "title_str                                                               \n",
       "FarSky                            NaN        NaN        NaN        NaN  \n",
       "Tabletop Simulator                NaN        NaN        NaN        NaN  \n",
       "Toy Soldiers                      NaN        NaN        NaN        NaN  \n",
       "Tales of Maj'Eyal                 NaN        NaN        NaN        NaN  \n",
       "You Need A Budget 4 (YNAB)        NaN        NaN        NaN        NaN  \n",
       "\n",
       "[5 rows x 11350 columns]"
      ]
     },
     "execution_count": 48,
     "metadata": {},
     "output_type": "execute_result"
    }
   ],
   "source": [
    "pivot_game.sample(5)"
   ]
  },
  {
   "cell_type": "markdown",
   "metadata": {},
   "source": [
    "### Create Sparse Matrix"
   ]
  },
  {
   "cell_type": "markdown",
   "metadata": {},
   "source": [
    "Let's now create a sparse matrix before we can calculate the cosine similarity\n",
    "### 💡[What is Sparse Matrix](http://www.btechsmartclass.com/data_structures/sparse-matrix.html)\n",
    "<img src=\"http://www.btechsmartclass.com/data_structures/ds_images/Triplet_Representation_of_Sparse_Matrix.png\">"
   ]
  },
  {
   "cell_type": "code",
   "execution_count": 49,
   "metadata": {},
   "outputs": [],
   "source": [
    "sparse_pivot = sparse.csr_matrix(pivot_game.fillna(0))"
   ]
  },
  {
   "cell_type": "code",
   "execution_count": 50,
   "metadata": {},
   "outputs": [
    {
     "name": "stdout",
     "output_type": "stream",
     "text": [
      "<class 'scipy.sparse.csr.csr_matrix'>\n",
      "  (0, 949)\t0.7\n",
      "  (1, 183)\t0.6\n",
      "  (1, 2286)\t0.3\n",
      "  (1, 2571)\t0.3\n",
      "  (2, 1070)\t2.4\n",
      "  (2, 1096)\t5.0\n",
      "  (2, 1320)\t11.2\n",
      "  (2, 1545)\t1.2\n",
      "  (2, 2007)\t0.2\n",
      "  (3, 183)\t0.5\n",
      "  (3, 3888)\t5.4\n",
      "  (4, 634)\t3.6\n"
     ]
    }
   ],
   "source": [
    "print(type(sparse_pivot))\n",
    "print(sparse_pivot[:5])"
   ]
  },
  {
   "cell_type": "markdown",
   "metadata": {},
   "source": [
    "### Calculate Consine Similarity"
   ]
  },
  {
   "cell_type": "markdown",
   "metadata": {},
   "source": [
    "__pairwise_distances__ will return a square matrix comparing every game with every other game in the dataset "
   ]
  },
  {
   "cell_type": "code",
   "execution_count": 51,
   "metadata": {},
   "outputs": [],
   "source": [
    "dists = pairwise_distances(sparse_pivot, metric='cosine')"
   ]
  },
  {
   "cell_type": "code",
   "execution_count": 52,
   "metadata": {},
   "outputs": [
    {
     "data": {
      "text/plain": [
       "array([[0.        , 1.        , 1.        , ..., 1.        , 1.        ,\n",
       "        1.        ],\n",
       "       [1.        , 0.        , 1.        , ..., 1.        , 0.9960849 ,\n",
       "        1.        ],\n",
       "       [1.        , 1.        , 0.        , ..., 1.        , 1.        ,\n",
       "        1.        ],\n",
       "       ...,\n",
       "       [1.        , 1.        , 1.        , ..., 0.        , 0.99744235,\n",
       "        1.        ],\n",
       "       [1.        , 0.9960849 , 1.        , ..., 0.99744235, 0.        ,\n",
       "        0.97026777],\n",
       "       [1.        , 1.        , 1.        , ..., 1.        , 0.97026777,\n",
       "        0.        ]])"
      ]
     },
     "execution_count": 52,
     "metadata": {},
     "output_type": "execute_result"
    }
   ],
   "source": [
    "dists"
   ]
  },
  {
   "cell_type": "markdown",
   "metadata": {},
   "source": [
    "#### 💡 Cosine Distance vs Similarity\n",
    "__Distance__ is not the same as __Similarity__. For example, a similarity of 1 is a distance of 0!\n",
    "\n",
    "Because of this, the similarity is defined as 1 - dist. To compute this, we can use cosine_similarity instead."
   ]
  },
  {
   "cell_type": "code",
   "execution_count": 53,
   "metadata": {},
   "outputs": [],
   "source": [
    "similarities = cosine_similarity(sparse_pivot)"
   ]
  },
  {
   "cell_type": "code",
   "execution_count": 54,
   "metadata": {},
   "outputs": [
    {
     "data": {
      "text/plain": [
       "array([[1.        , 0.        , 0.        , ..., 0.        , 0.        ,\n",
       "        0.        ],\n",
       "       [0.        , 1.        , 0.        , ..., 0.        , 0.0039151 ,\n",
       "        0.        ],\n",
       "       [0.        , 0.        , 1.        , ..., 0.        , 0.        ,\n",
       "        0.        ],\n",
       "       ...,\n",
       "       [0.        , 0.        , 0.        , ..., 1.        , 0.00255765,\n",
       "        0.        ],\n",
       "       [0.        , 0.0039151 , 0.        , ..., 0.00255765, 1.        ,\n",
       "        0.02973223],\n",
       "       [0.        , 0.        , 0.        , ..., 0.        , 0.02973223,\n",
       "        1.        ]])"
      ]
     },
     "execution_count": 54,
     "metadata": {},
     "output_type": "execute_result"
    }
   ],
   "source": [
    "similarities"
   ]
  },
  {
   "cell_type": "markdown",
   "metadata": {},
   "source": [
    "### ✔ Verify that ` similarity is defined as 1 - dist` is true"
   ]
  },
  {
   "cell_type": "code",
   "execution_count": 55,
   "metadata": {},
   "outputs": [
    {
     "data": {
      "text/plain": [
       "True"
      ]
     },
     "execution_count": 55,
     "metadata": {},
     "output_type": "execute_result"
    }
   ],
   "source": [
    "np.all(np.isclose((1.0 - dists), similarities))"
   ]
  },
  {
   "cell_type": "markdown",
   "metadata": {},
   "source": [
    "## 📊 Create Distances DataFrame"
   ]
  },
  {
   "cell_type": "code",
   "execution_count": 56,
   "metadata": {},
   "outputs": [],
   "source": [
    "recommender_df = pd.DataFrame(dists, columns=pivot_game.index, index=pivot_game.index)"
   ]
  },
  {
   "cell_type": "code",
   "execution_count": 57,
   "metadata": {
    "scrolled": true
   },
   "outputs": [
    {
     "data": {
      "text/html": [
       "<div>\n",
       "<style scoped>\n",
       "    .dataframe tbody tr th:only-of-type {\n",
       "        vertical-align: middle;\n",
       "    }\n",
       "\n",
       "    .dataframe tbody tr th {\n",
       "        vertical-align: top;\n",
       "    }\n",
       "\n",
       "    .dataframe thead th {\n",
       "        text-align: right;\n",
       "    }\n",
       "</style>\n",
       "<table border=\"1\" class=\"dataframe\">\n",
       "  <thead>\n",
       "    <tr style=\"text-align: right;\">\n",
       "      <th>title_str</th>\n",
       "      <th>007 Legends</th>\n",
       "      <th>0RBITALIS</th>\n",
       "      <th>1... 2... 3... KICK IT! (Drop That Beat Like an Ugly Baby)</th>\n",
       "      <th>10 Second Ninja</th>\n",
       "      <th>10,000,000</th>\n",
       "    </tr>\n",
       "    <tr>\n",
       "      <th>title_str</th>\n",
       "      <th></th>\n",
       "      <th></th>\n",
       "      <th></th>\n",
       "      <th></th>\n",
       "      <th></th>\n",
       "    </tr>\n",
       "  </thead>\n",
       "  <tbody>\n",
       "    <tr>\n",
       "      <th>007 Legends</th>\n",
       "      <td>0.0</td>\n",
       "      <td>1.000000</td>\n",
       "      <td>1.000000</td>\n",
       "      <td>1.00000</td>\n",
       "      <td>1.0</td>\n",
       "    </tr>\n",
       "    <tr>\n",
       "      <th>0RBITALIS</th>\n",
       "      <td>1.0</td>\n",
       "      <td>0.000000</td>\n",
       "      <td>1.000000</td>\n",
       "      <td>0.92472</td>\n",
       "      <td>1.0</td>\n",
       "    </tr>\n",
       "    <tr>\n",
       "      <th>1... 2... 3... KICK IT! (Drop That Beat Like an Ugly Baby)</th>\n",
       "      <td>1.0</td>\n",
       "      <td>1.000000</td>\n",
       "      <td>0.000000</td>\n",
       "      <td>1.00000</td>\n",
       "      <td>1.0</td>\n",
       "    </tr>\n",
       "    <tr>\n",
       "      <th>10 Second Ninja</th>\n",
       "      <td>1.0</td>\n",
       "      <td>0.924720</td>\n",
       "      <td>1.000000</td>\n",
       "      <td>0.00000</td>\n",
       "      <td>1.0</td>\n",
       "    </tr>\n",
       "    <tr>\n",
       "      <th>10,000,000</th>\n",
       "      <td>1.0</td>\n",
       "      <td>1.000000</td>\n",
       "      <td>1.000000</td>\n",
       "      <td>1.00000</td>\n",
       "      <td>0.0</td>\n",
       "    </tr>\n",
       "    <tr>\n",
       "      <th>...</th>\n",
       "      <td>...</td>\n",
       "      <td>...</td>\n",
       "      <td>...</td>\n",
       "      <td>...</td>\n",
       "      <td>...</td>\n",
       "    </tr>\n",
       "    <tr>\n",
       "      <th>rymdkapsel</th>\n",
       "      <td>1.0</td>\n",
       "      <td>1.000000</td>\n",
       "      <td>1.000000</td>\n",
       "      <td>1.00000</td>\n",
       "      <td>1.0</td>\n",
       "    </tr>\n",
       "    <tr>\n",
       "      <th>sZone-Online</th>\n",
       "      <td>1.0</td>\n",
       "      <td>1.000000</td>\n",
       "      <td>0.998421</td>\n",
       "      <td>1.00000</td>\n",
       "      <td>1.0</td>\n",
       "    </tr>\n",
       "    <tr>\n",
       "      <th>the static speaks my name</th>\n",
       "      <td>1.0</td>\n",
       "      <td>1.000000</td>\n",
       "      <td>1.000000</td>\n",
       "      <td>1.00000</td>\n",
       "      <td>1.0</td>\n",
       "    </tr>\n",
       "    <tr>\n",
       "      <th>theHunter</th>\n",
       "      <td>1.0</td>\n",
       "      <td>0.996085</td>\n",
       "      <td>1.000000</td>\n",
       "      <td>1.00000</td>\n",
       "      <td>1.0</td>\n",
       "    </tr>\n",
       "    <tr>\n",
       "      <th>theHunter Primal</th>\n",
       "      <td>1.0</td>\n",
       "      <td>1.000000</td>\n",
       "      <td>1.000000</td>\n",
       "      <td>1.00000</td>\n",
       "      <td>1.0</td>\n",
       "    </tr>\n",
       "  </tbody>\n",
       "</table>\n",
       "<p>3600 rows × 5 columns</p>\n",
       "</div>"
      ],
      "text/plain": [
       "title_str                                           007 Legends  0RBITALIS  \\\n",
       "title_str                                                                    \n",
       "007 Legends                                                 0.0   1.000000   \n",
       "0RBITALIS                                                   1.0   0.000000   \n",
       "1... 2... 3... KICK IT! (Drop That Beat Like an...          1.0   1.000000   \n",
       "10 Second Ninja                                             1.0   0.924720   \n",
       "10,000,000                                                  1.0   1.000000   \n",
       "...                                                         ...        ...   \n",
       "rymdkapsel                                                  1.0   1.000000   \n",
       "sZone-Online                                                1.0   1.000000   \n",
       "the static speaks my name                                   1.0   1.000000   \n",
       "theHunter                                                   1.0   0.996085   \n",
       "theHunter Primal                                            1.0   1.000000   \n",
       "\n",
       "title_str                                           1... 2... 3... KICK IT! (Drop That Beat Like an Ugly Baby)  \\\n",
       "title_str                                                                                                        \n",
       "007 Legends                                                                                  1.000000            \n",
       "0RBITALIS                                                                                    1.000000            \n",
       "1... 2... 3... KICK IT! (Drop That Beat Like an...                                           0.000000            \n",
       "10 Second Ninja                                                                              1.000000            \n",
       "10,000,000                                                                                   1.000000            \n",
       "...                                                                                               ...            \n",
       "rymdkapsel                                                                                   1.000000            \n",
       "sZone-Online                                                                                 0.998421            \n",
       "the static speaks my name                                                                    1.000000            \n",
       "theHunter                                                                                    1.000000            \n",
       "theHunter Primal                                                                             1.000000            \n",
       "\n",
       "title_str                                           10 Second Ninja  \\\n",
       "title_str                                                             \n",
       "007 Legends                                                 1.00000   \n",
       "0RBITALIS                                                   0.92472   \n",
       "1... 2... 3... KICK IT! (Drop That Beat Like an...          1.00000   \n",
       "10 Second Ninja                                             0.00000   \n",
       "10,000,000                                                  1.00000   \n",
       "...                                                             ...   \n",
       "rymdkapsel                                                  1.00000   \n",
       "sZone-Online                                                1.00000   \n",
       "the static speaks my name                                   1.00000   \n",
       "theHunter                                                   1.00000   \n",
       "theHunter Primal                                            1.00000   \n",
       "\n",
       "title_str                                           10,000,000  \n",
       "title_str                                                       \n",
       "007 Legends                                                1.0  \n",
       "0RBITALIS                                                  1.0  \n",
       "1... 2... 3... KICK IT! (Drop That Beat Like an...         1.0  \n",
       "10 Second Ninja                                            1.0  \n",
       "10,000,000                                                 0.0  \n",
       "...                                                        ...  \n",
       "rymdkapsel                                                 1.0  \n",
       "sZone-Online                                               1.0  \n",
       "the static speaks my name                                  1.0  \n",
       "theHunter                                                  1.0  \n",
       "theHunter Primal                                           1.0  \n",
       "\n",
       "[3600 rows x 5 columns]"
      ]
     },
     "execution_count": 57,
     "metadata": {},
     "output_type": "execute_result"
    }
   ],
   "source": [
    "recommender_df.head().T"
   ]
  },
  {
   "cell_type": "markdown",
   "metadata": {},
   "source": [
    "### 📈 Evaluate Recommender Performance"
   ]
  },
  {
   "cell_type": "code",
   "execution_count": 58,
   "metadata": {},
   "outputs": [
    {
     "data": {
      "text/plain": [
       "Index(['007 Legends', '0RBITALIS',\n",
       "       '1... 2... 3... KICK IT! (Drop That Beat Like an Ugly Baby)',\n",
       "       '10 Second Ninja', '10,000,000', '100% Orange Juice', '1000 Amps',\n",
       "       '12 Labours of Hercules', '12 Labours of Hercules II The Cretan Bull',\n",
       "       '12 Labours of Hercules III Girl Power',\n",
       "       ...\n",
       "       'rFactor', 'rFactor 2', 'realMyst', 'realMyst Masterpiece Edition',\n",
       "       'resident evil 4 / biohazard 4', 'rymdkapsel', 'sZone-Online',\n",
       "       'the static speaks my name', 'theHunter', 'theHunter Primal'],\n",
       "      dtype='object', name='title_str', length=3600)"
      ]
     },
     "execution_count": 58,
     "metadata": {},
     "output_type": "execute_result"
    }
   ],
   "source": [
    "pivot_game.index"
   ]
  },
  {
   "cell_type": "code",
   "execution_count": 59,
   "metadata": {},
   "outputs": [
    {
     "name": "stdout",
     "output_type": "stream",
     "text": [
      "<class 'pandas.core.indexes.base.Index'>\n"
     ]
    }
   ],
   "source": [
    "print(type(pivot_game.index))"
   ]
  },
  {
   "cell_type": "code",
   "execution_count": 60,
   "metadata": {},
   "outputs": [
    {
     "name": "stdout",
     "output_type": "stream",
     "text": [
      "<class 'pandas.core.frame.DataFrame'>\n"
     ]
    },
    {
     "data": {
      "text/html": [
       "<div>\n",
       "<style scoped>\n",
       "    .dataframe tbody tr th:only-of-type {\n",
       "        vertical-align: middle;\n",
       "    }\n",
       "\n",
       "    .dataframe tbody tr th {\n",
       "        vertical-align: top;\n",
       "    }\n",
       "\n",
       "    .dataframe thead th {\n",
       "        text-align: right;\n",
       "    }\n",
       "</style>\n",
       "<table border=\"1\" class=\"dataframe\">\n",
       "  <thead>\n",
       "    <tr style=\"text-align: right;\">\n",
       "      <th>user_id</th>\n",
       "      <th>5250</th>\n",
       "      <th>76767</th>\n",
       "      <th>86540</th>\n",
       "      <th>144736</th>\n",
       "      <th>181212</th>\n",
       "      <th>229911</th>\n",
       "      <th>298950</th>\n",
       "      <th>381543</th>\n",
       "      <th>547685</th>\n",
       "      <th>554278</th>\n",
       "      <th>...</th>\n",
       "      <th>309228590</th>\n",
       "      <th>309255941</th>\n",
       "      <th>309262440</th>\n",
       "      <th>309265377</th>\n",
       "      <th>309404240</th>\n",
       "      <th>309434439</th>\n",
       "      <th>309554670</th>\n",
       "      <th>309626088</th>\n",
       "      <th>309824202</th>\n",
       "      <th>309903146</th>\n",
       "    </tr>\n",
       "    <tr>\n",
       "      <th>title_str</th>\n",
       "      <th></th>\n",
       "      <th></th>\n",
       "      <th></th>\n",
       "      <th></th>\n",
       "      <th></th>\n",
       "      <th></th>\n",
       "      <th></th>\n",
       "      <th></th>\n",
       "      <th></th>\n",
       "      <th></th>\n",
       "      <th></th>\n",
       "      <th></th>\n",
       "      <th></th>\n",
       "      <th></th>\n",
       "      <th></th>\n",
       "      <th></th>\n",
       "      <th></th>\n",
       "      <th></th>\n",
       "      <th></th>\n",
       "      <th></th>\n",
       "      <th></th>\n",
       "    </tr>\n",
       "  </thead>\n",
       "  <tbody>\n",
       "    <tr>\n",
       "      <th>007 Legends</th>\n",
       "      <td>NaN</td>\n",
       "      <td>NaN</td>\n",
       "      <td>NaN</td>\n",
       "      <td>NaN</td>\n",
       "      <td>NaN</td>\n",
       "      <td>NaN</td>\n",
       "      <td>NaN</td>\n",
       "      <td>NaN</td>\n",
       "      <td>NaN</td>\n",
       "      <td>NaN</td>\n",
       "      <td>...</td>\n",
       "      <td>NaN</td>\n",
       "      <td>NaN</td>\n",
       "      <td>NaN</td>\n",
       "      <td>NaN</td>\n",
       "      <td>NaN</td>\n",
       "      <td>NaN</td>\n",
       "      <td>NaN</td>\n",
       "      <td>NaN</td>\n",
       "      <td>NaN</td>\n",
       "      <td>NaN</td>\n",
       "    </tr>\n",
       "    <tr>\n",
       "      <th>0RBITALIS</th>\n",
       "      <td>NaN</td>\n",
       "      <td>NaN</td>\n",
       "      <td>NaN</td>\n",
       "      <td>NaN</td>\n",
       "      <td>NaN</td>\n",
       "      <td>NaN</td>\n",
       "      <td>NaN</td>\n",
       "      <td>NaN</td>\n",
       "      <td>NaN</td>\n",
       "      <td>NaN</td>\n",
       "      <td>...</td>\n",
       "      <td>NaN</td>\n",
       "      <td>NaN</td>\n",
       "      <td>NaN</td>\n",
       "      <td>NaN</td>\n",
       "      <td>NaN</td>\n",
       "      <td>NaN</td>\n",
       "      <td>NaN</td>\n",
       "      <td>NaN</td>\n",
       "      <td>NaN</td>\n",
       "      <td>NaN</td>\n",
       "    </tr>\n",
       "    <tr>\n",
       "      <th>1... 2... 3... KICK IT! (Drop That Beat Like an Ugly Baby)</th>\n",
       "      <td>NaN</td>\n",
       "      <td>NaN</td>\n",
       "      <td>NaN</td>\n",
       "      <td>NaN</td>\n",
       "      <td>NaN</td>\n",
       "      <td>NaN</td>\n",
       "      <td>NaN</td>\n",
       "      <td>NaN</td>\n",
       "      <td>NaN</td>\n",
       "      <td>NaN</td>\n",
       "      <td>...</td>\n",
       "      <td>NaN</td>\n",
       "      <td>NaN</td>\n",
       "      <td>NaN</td>\n",
       "      <td>NaN</td>\n",
       "      <td>NaN</td>\n",
       "      <td>NaN</td>\n",
       "      <td>NaN</td>\n",
       "      <td>NaN</td>\n",
       "      <td>NaN</td>\n",
       "      <td>NaN</td>\n",
       "    </tr>\n",
       "    <tr>\n",
       "      <th>10 Second Ninja</th>\n",
       "      <td>NaN</td>\n",
       "      <td>NaN</td>\n",
       "      <td>NaN</td>\n",
       "      <td>NaN</td>\n",
       "      <td>NaN</td>\n",
       "      <td>NaN</td>\n",
       "      <td>NaN</td>\n",
       "      <td>NaN</td>\n",
       "      <td>NaN</td>\n",
       "      <td>NaN</td>\n",
       "      <td>...</td>\n",
       "      <td>NaN</td>\n",
       "      <td>NaN</td>\n",
       "      <td>NaN</td>\n",
       "      <td>NaN</td>\n",
       "      <td>NaN</td>\n",
       "      <td>NaN</td>\n",
       "      <td>NaN</td>\n",
       "      <td>NaN</td>\n",
       "      <td>NaN</td>\n",
       "      <td>NaN</td>\n",
       "    </tr>\n",
       "    <tr>\n",
       "      <th>10,000,000</th>\n",
       "      <td>NaN</td>\n",
       "      <td>NaN</td>\n",
       "      <td>NaN</td>\n",
       "      <td>NaN</td>\n",
       "      <td>NaN</td>\n",
       "      <td>NaN</td>\n",
       "      <td>NaN</td>\n",
       "      <td>NaN</td>\n",
       "      <td>NaN</td>\n",
       "      <td>NaN</td>\n",
       "      <td>...</td>\n",
       "      <td>NaN</td>\n",
       "      <td>NaN</td>\n",
       "      <td>NaN</td>\n",
       "      <td>NaN</td>\n",
       "      <td>NaN</td>\n",
       "      <td>NaN</td>\n",
       "      <td>NaN</td>\n",
       "      <td>NaN</td>\n",
       "      <td>NaN</td>\n",
       "      <td>NaN</td>\n",
       "    </tr>\n",
       "    <tr>\n",
       "      <th>...</th>\n",
       "      <td>...</td>\n",
       "      <td>...</td>\n",
       "      <td>...</td>\n",
       "      <td>...</td>\n",
       "      <td>...</td>\n",
       "      <td>...</td>\n",
       "      <td>...</td>\n",
       "      <td>...</td>\n",
       "      <td>...</td>\n",
       "      <td>...</td>\n",
       "      <td>...</td>\n",
       "      <td>...</td>\n",
       "      <td>...</td>\n",
       "      <td>...</td>\n",
       "      <td>...</td>\n",
       "      <td>...</td>\n",
       "      <td>...</td>\n",
       "      <td>...</td>\n",
       "      <td>...</td>\n",
       "      <td>...</td>\n",
       "      <td>...</td>\n",
       "    </tr>\n",
       "    <tr>\n",
       "      <th>rymdkapsel</th>\n",
       "      <td>NaN</td>\n",
       "      <td>NaN</td>\n",
       "      <td>NaN</td>\n",
       "      <td>NaN</td>\n",
       "      <td>NaN</td>\n",
       "      <td>NaN</td>\n",
       "      <td>NaN</td>\n",
       "      <td>NaN</td>\n",
       "      <td>NaN</td>\n",
       "      <td>NaN</td>\n",
       "      <td>...</td>\n",
       "      <td>NaN</td>\n",
       "      <td>NaN</td>\n",
       "      <td>NaN</td>\n",
       "      <td>NaN</td>\n",
       "      <td>NaN</td>\n",
       "      <td>NaN</td>\n",
       "      <td>NaN</td>\n",
       "      <td>NaN</td>\n",
       "      <td>NaN</td>\n",
       "      <td>NaN</td>\n",
       "    </tr>\n",
       "    <tr>\n",
       "      <th>sZone-Online</th>\n",
       "      <td>NaN</td>\n",
       "      <td>NaN</td>\n",
       "      <td>NaN</td>\n",
       "      <td>NaN</td>\n",
       "      <td>NaN</td>\n",
       "      <td>NaN</td>\n",
       "      <td>NaN</td>\n",
       "      <td>NaN</td>\n",
       "      <td>NaN</td>\n",
       "      <td>NaN</td>\n",
       "      <td>...</td>\n",
       "      <td>NaN</td>\n",
       "      <td>NaN</td>\n",
       "      <td>NaN</td>\n",
       "      <td>NaN</td>\n",
       "      <td>NaN</td>\n",
       "      <td>NaN</td>\n",
       "      <td>NaN</td>\n",
       "      <td>NaN</td>\n",
       "      <td>NaN</td>\n",
       "      <td>NaN</td>\n",
       "    </tr>\n",
       "    <tr>\n",
       "      <th>the static speaks my name</th>\n",
       "      <td>NaN</td>\n",
       "      <td>NaN</td>\n",
       "      <td>NaN</td>\n",
       "      <td>NaN</td>\n",
       "      <td>NaN</td>\n",
       "      <td>NaN</td>\n",
       "      <td>NaN</td>\n",
       "      <td>NaN</td>\n",
       "      <td>NaN</td>\n",
       "      <td>NaN</td>\n",
       "      <td>...</td>\n",
       "      <td>NaN</td>\n",
       "      <td>NaN</td>\n",
       "      <td>NaN</td>\n",
       "      <td>NaN</td>\n",
       "      <td>NaN</td>\n",
       "      <td>NaN</td>\n",
       "      <td>NaN</td>\n",
       "      <td>NaN</td>\n",
       "      <td>NaN</td>\n",
       "      <td>NaN</td>\n",
       "    </tr>\n",
       "    <tr>\n",
       "      <th>theHunter</th>\n",
       "      <td>NaN</td>\n",
       "      <td>NaN</td>\n",
       "      <td>NaN</td>\n",
       "      <td>NaN</td>\n",
       "      <td>NaN</td>\n",
       "      <td>NaN</td>\n",
       "      <td>NaN</td>\n",
       "      <td>NaN</td>\n",
       "      <td>0.2</td>\n",
       "      <td>NaN</td>\n",
       "      <td>...</td>\n",
       "      <td>NaN</td>\n",
       "      <td>NaN</td>\n",
       "      <td>NaN</td>\n",
       "      <td>NaN</td>\n",
       "      <td>NaN</td>\n",
       "      <td>NaN</td>\n",
       "      <td>NaN</td>\n",
       "      <td>NaN</td>\n",
       "      <td>NaN</td>\n",
       "      <td>NaN</td>\n",
       "    </tr>\n",
       "    <tr>\n",
       "      <th>theHunter Primal</th>\n",
       "      <td>NaN</td>\n",
       "      <td>NaN</td>\n",
       "      <td>NaN</td>\n",
       "      <td>NaN</td>\n",
       "      <td>NaN</td>\n",
       "      <td>NaN</td>\n",
       "      <td>NaN</td>\n",
       "      <td>NaN</td>\n",
       "      <td>NaN</td>\n",
       "      <td>NaN</td>\n",
       "      <td>...</td>\n",
       "      <td>NaN</td>\n",
       "      <td>NaN</td>\n",
       "      <td>NaN</td>\n",
       "      <td>NaN</td>\n",
       "      <td>NaN</td>\n",
       "      <td>NaN</td>\n",
       "      <td>NaN</td>\n",
       "      <td>NaN</td>\n",
       "      <td>NaN</td>\n",
       "      <td>NaN</td>\n",
       "    </tr>\n",
       "  </tbody>\n",
       "</table>\n",
       "<p>3600 rows × 11350 columns</p>\n",
       "</div>"
      ],
      "text/plain": [
       "user_id                                             5250       76767      \\\n",
       "title_str                                                                  \n",
       "007 Legends                                               NaN        NaN   \n",
       "0RBITALIS                                                 NaN        NaN   \n",
       "1... 2... 3... KICK IT! (Drop That Beat Like an...        NaN        NaN   \n",
       "10 Second Ninja                                           NaN        NaN   \n",
       "10,000,000                                                NaN        NaN   \n",
       "...                                                       ...        ...   \n",
       "rymdkapsel                                                NaN        NaN   \n",
       "sZone-Online                                              NaN        NaN   \n",
       "the static speaks my name                                 NaN        NaN   \n",
       "theHunter                                                 NaN        NaN   \n",
       "theHunter Primal                                          NaN        NaN   \n",
       "\n",
       "user_id                                             86540      144736     \\\n",
       "title_str                                                                  \n",
       "007 Legends                                               NaN        NaN   \n",
       "0RBITALIS                                                 NaN        NaN   \n",
       "1... 2... 3... KICK IT! (Drop That Beat Like an...        NaN        NaN   \n",
       "10 Second Ninja                                           NaN        NaN   \n",
       "10,000,000                                                NaN        NaN   \n",
       "...                                                       ...        ...   \n",
       "rymdkapsel                                                NaN        NaN   \n",
       "sZone-Online                                              NaN        NaN   \n",
       "the static speaks my name                                 NaN        NaN   \n",
       "theHunter                                                 NaN        NaN   \n",
       "theHunter Primal                                          NaN        NaN   \n",
       "\n",
       "user_id                                             181212     229911     \\\n",
       "title_str                                                                  \n",
       "007 Legends                                               NaN        NaN   \n",
       "0RBITALIS                                                 NaN        NaN   \n",
       "1... 2... 3... KICK IT! (Drop That Beat Like an...        NaN        NaN   \n",
       "10 Second Ninja                                           NaN        NaN   \n",
       "10,000,000                                                NaN        NaN   \n",
       "...                                                       ...        ...   \n",
       "rymdkapsel                                                NaN        NaN   \n",
       "sZone-Online                                              NaN        NaN   \n",
       "the static speaks my name                                 NaN        NaN   \n",
       "theHunter                                                 NaN        NaN   \n",
       "theHunter Primal                                          NaN        NaN   \n",
       "\n",
       "user_id                                             298950     381543     \\\n",
       "title_str                                                                  \n",
       "007 Legends                                               NaN        NaN   \n",
       "0RBITALIS                                                 NaN        NaN   \n",
       "1... 2... 3... KICK IT! (Drop That Beat Like an...        NaN        NaN   \n",
       "10 Second Ninja                                           NaN        NaN   \n",
       "10,000,000                                                NaN        NaN   \n",
       "...                                                       ...        ...   \n",
       "rymdkapsel                                                NaN        NaN   \n",
       "sZone-Online                                              NaN        NaN   \n",
       "the static speaks my name                                 NaN        NaN   \n",
       "theHunter                                                 NaN        NaN   \n",
       "theHunter Primal                                          NaN        NaN   \n",
       "\n",
       "user_id                                             547685     554278     ...  \\\n",
       "title_str                                                                 ...   \n",
       "007 Legends                                               NaN        NaN  ...   \n",
       "0RBITALIS                                                 NaN        NaN  ...   \n",
       "1... 2... 3... KICK IT! (Drop That Beat Like an...        NaN        NaN  ...   \n",
       "10 Second Ninja                                           NaN        NaN  ...   \n",
       "10,000,000                                                NaN        NaN  ...   \n",
       "...                                                       ...        ...  ...   \n",
       "rymdkapsel                                                NaN        NaN  ...   \n",
       "sZone-Online                                              NaN        NaN  ...   \n",
       "the static speaks my name                                 NaN        NaN  ...   \n",
       "theHunter                                                 0.2        NaN  ...   \n",
       "theHunter Primal                                          NaN        NaN  ...   \n",
       "\n",
       "user_id                                             309228590  309255941  \\\n",
       "title_str                                                                  \n",
       "007 Legends                                               NaN        NaN   \n",
       "0RBITALIS                                                 NaN        NaN   \n",
       "1... 2... 3... KICK IT! (Drop That Beat Like an...        NaN        NaN   \n",
       "10 Second Ninja                                           NaN        NaN   \n",
       "10,000,000                                                NaN        NaN   \n",
       "...                                                       ...        ...   \n",
       "rymdkapsel                                                NaN        NaN   \n",
       "sZone-Online                                              NaN        NaN   \n",
       "the static speaks my name                                 NaN        NaN   \n",
       "theHunter                                                 NaN        NaN   \n",
       "theHunter Primal                                          NaN        NaN   \n",
       "\n",
       "user_id                                             309262440  309265377  \\\n",
       "title_str                                                                  \n",
       "007 Legends                                               NaN        NaN   \n",
       "0RBITALIS                                                 NaN        NaN   \n",
       "1... 2... 3... KICK IT! (Drop That Beat Like an...        NaN        NaN   \n",
       "10 Second Ninja                                           NaN        NaN   \n",
       "10,000,000                                                NaN        NaN   \n",
       "...                                                       ...        ...   \n",
       "rymdkapsel                                                NaN        NaN   \n",
       "sZone-Online                                              NaN        NaN   \n",
       "the static speaks my name                                 NaN        NaN   \n",
       "theHunter                                                 NaN        NaN   \n",
       "theHunter Primal                                          NaN        NaN   \n",
       "\n",
       "user_id                                             309404240  309434439  \\\n",
       "title_str                                                                  \n",
       "007 Legends                                               NaN        NaN   \n",
       "0RBITALIS                                                 NaN        NaN   \n",
       "1... 2... 3... KICK IT! (Drop That Beat Like an...        NaN        NaN   \n",
       "10 Second Ninja                                           NaN        NaN   \n",
       "10,000,000                                                NaN        NaN   \n",
       "...                                                       ...        ...   \n",
       "rymdkapsel                                                NaN        NaN   \n",
       "sZone-Online                                              NaN        NaN   \n",
       "the static speaks my name                                 NaN        NaN   \n",
       "theHunter                                                 NaN        NaN   \n",
       "theHunter Primal                                          NaN        NaN   \n",
       "\n",
       "user_id                                             309554670  309626088  \\\n",
       "title_str                                                                  \n",
       "007 Legends                                               NaN        NaN   \n",
       "0RBITALIS                                                 NaN        NaN   \n",
       "1... 2... 3... KICK IT! (Drop That Beat Like an...        NaN        NaN   \n",
       "10 Second Ninja                                           NaN        NaN   \n",
       "10,000,000                                                NaN        NaN   \n",
       "...                                                       ...        ...   \n",
       "rymdkapsel                                                NaN        NaN   \n",
       "sZone-Online                                              NaN        NaN   \n",
       "the static speaks my name                                 NaN        NaN   \n",
       "theHunter                                                 NaN        NaN   \n",
       "theHunter Primal                                          NaN        NaN   \n",
       "\n",
       "user_id                                             309824202  309903146  \n",
       "title_str                                                                 \n",
       "007 Legends                                               NaN        NaN  \n",
       "0RBITALIS                                                 NaN        NaN  \n",
       "1... 2... 3... KICK IT! (Drop That Beat Like an...        NaN        NaN  \n",
       "10 Second Ninja                                           NaN        NaN  \n",
       "10,000,000                                                NaN        NaN  \n",
       "...                                                       ...        ...  \n",
       "rymdkapsel                                                NaN        NaN  \n",
       "sZone-Online                                              NaN        NaN  \n",
       "the static speaks my name                                 NaN        NaN  \n",
       "theHunter                                                 NaN        NaN  \n",
       "theHunter Primal                                          NaN        NaN  \n",
       "\n",
       "[3600 rows x 11350 columns]"
      ]
     },
     "execution_count": 60,
     "metadata": {},
     "output_type": "execute_result"
    }
   ],
   "source": [
    "print(type(pivot_game))\n",
    "pivot_game"
   ]
  },
  {
   "cell_type": "code",
   "execution_count": 61,
   "metadata": {},
   "outputs": [
    {
     "name": "stdout",
     "output_type": "stream",
     "text": [
      "Keyword search result:\n",
      "url      https://store.steampowered.com/app/271820/Card...\n",
      "types                                                  app\n",
      "genre                               Adventure,Casual,Indie\n",
      "Name: Card City Nights, dtype: object\n",
      "-----------------------------\n",
      "url      https://store.steampowered.com/app/205020/Lumi...\n",
      "types                                                  app\n",
      "genre                               Adventure,Casual,Indie\n",
      "Name: Lumino City, dtype: object\n",
      "-----------------------------\n",
      "url      https://store.steampowered.com/app/326180/Sini...\n",
      "types                                                  app\n",
      "genre                               Adventure,Casual,Indie\n",
      "Name: Sinister City, dtype: object\n",
      "-----------------------------\n",
      "-----------------------------\n"
     ]
    }
   ],
   "source": [
    "q = 'city'\n",
    "titles = pivot_game[pivot_game.index.str.contains(q, flags=re.IGNORECASE)].index\n",
    "genre = 'Adventure'\n",
    "print('Keyword search result:')\n",
    "for title in titles:\n",
    "    try:\n",
    "        item = df_game_short.loc[title,['url','types','genre']]\n",
    "#           if not item.empty:\n",
    "        if not item.empty and genre.lower() in item[-1].lower():\n",
    "#             print(item[-1])\n",
    "            print(item)\n",
    "            print('-----------------------------')\n",
    "    except KeyError:\n",
    "        pass\n",
    "print('-----------------------------')"
   ]
  },
  {
   "cell_type": "code",
   "execution_count": 62,
   "metadata": {},
   "outputs": [
    {
     "data": {
      "text/plain": [
       "(3600, 3600)"
      ]
     },
     "execution_count": 62,
     "metadata": {},
     "output_type": "execute_result"
    }
   ],
   "source": [
    "recommender_df.shape"
   ]
  },
  {
   "cell_type": "code",
   "execution_count": 63,
   "metadata": {},
   "outputs": [
    {
     "data": {
      "text/plain": [
       "(40395, 4)"
      ]
     },
     "execution_count": 63,
     "metadata": {},
     "output_type": "execute_result"
    }
   ],
   "source": [
    "df_game_with_gener.shape"
   ]
  },
  {
   "cell_type": "code",
   "execution_count": 64,
   "metadata": {},
   "outputs": [
    {
     "data": {
      "text/html": [
       "<div>\n",
       "<style scoped>\n",
       "    .dataframe tbody tr th:only-of-type {\n",
       "        vertical-align: middle;\n",
       "    }\n",
       "\n",
       "    .dataframe tbody tr th {\n",
       "        vertical-align: top;\n",
       "    }\n",
       "\n",
       "    .dataframe thead th {\n",
       "        text-align: right;\n",
       "    }\n",
       "</style>\n",
       "<table border=\"1\" class=\"dataframe\">\n",
       "  <thead>\n",
       "    <tr style=\"text-align: right;\">\n",
       "      <th></th>\n",
       "      <th>url</th>\n",
       "      <th>types</th>\n",
       "      <th>genre</th>\n",
       "      <th>developer</th>\n",
       "    </tr>\n",
       "    <tr>\n",
       "      <th>title_str</th>\n",
       "      <th></th>\n",
       "      <th></th>\n",
       "      <th></th>\n",
       "      <th></th>\n",
       "    </tr>\n",
       "  </thead>\n",
       "  <tbody>\n",
       "    <tr>\n",
       "      <th>DOOM</th>\n",
       "      <td>https://store.steampowered.com/app/379720/DOOM/</td>\n",
       "      <td>app</td>\n",
       "      <td>Action</td>\n",
       "      <td>id Software</td>\n",
       "    </tr>\n",
       "    <tr>\n",
       "      <th>PLAYERUNKNOWN'S BATTLEGROUNDS</th>\n",
       "      <td>https://store.steampowered.com/app/578080/PLAY...</td>\n",
       "      <td>app</td>\n",
       "      <td>Action,Adventure,Massively Multiplayer</td>\n",
       "      <td>PUBG Corporation</td>\n",
       "    </tr>\n",
       "    <tr>\n",
       "      <th>BATTLETECH</th>\n",
       "      <td>https://store.steampowered.com/app/637090/BATT...</td>\n",
       "      <td>app</td>\n",
       "      <td>Action,Adventure,Strategy</td>\n",
       "      <td>Harebrained Schemes</td>\n",
       "    </tr>\n",
       "    <tr>\n",
       "      <th>DayZ</th>\n",
       "      <td>https://store.steampowered.com/app/221100/DayZ/</td>\n",
       "      <td>app</td>\n",
       "      <td>Action,Adventure,Massively Multiplayer</td>\n",
       "      <td>Bohemia Interactive</td>\n",
       "    </tr>\n",
       "    <tr>\n",
       "      <th>EVE Online</th>\n",
       "      <td>https://store.steampowered.com/app/8500/EVE_On...</td>\n",
       "      <td>app</td>\n",
       "      <td>Action,Free to Play,Massively Multiplayer,RPG,...</td>\n",
       "      <td>CCP</td>\n",
       "    </tr>\n",
       "  </tbody>\n",
       "</table>\n",
       "</div>"
      ],
      "text/plain": [
       "                                                                             url  \\\n",
       "title_str                                                                          \n",
       "DOOM                             https://store.steampowered.com/app/379720/DOOM/   \n",
       "PLAYERUNKNOWN'S BATTLEGROUNDS  https://store.steampowered.com/app/578080/PLAY...   \n",
       "BATTLETECH                     https://store.steampowered.com/app/637090/BATT...   \n",
       "DayZ                             https://store.steampowered.com/app/221100/DayZ/   \n",
       "EVE Online                     https://store.steampowered.com/app/8500/EVE_On...   \n",
       "\n",
       "                              types  \\\n",
       "title_str                             \n",
       "DOOM                            app   \n",
       "PLAYERUNKNOWN'S BATTLEGROUNDS   app   \n",
       "BATTLETECH                      app   \n",
       "DayZ                            app   \n",
       "EVE Online                      app   \n",
       "\n",
       "                                                                           genre  \\\n",
       "title_str                                                                          \n",
       "DOOM                                                                      Action   \n",
       "PLAYERUNKNOWN'S BATTLEGROUNDS             Action,Adventure,Massively Multiplayer   \n",
       "BATTLETECH                                             Action,Adventure,Strategy   \n",
       "DayZ                                      Action,Adventure,Massively Multiplayer   \n",
       "EVE Online                     Action,Free to Play,Massively Multiplayer,RPG,...   \n",
       "\n",
       "                                         developer  \n",
       "title_str                                           \n",
       "DOOM                                   id Software  \n",
       "PLAYERUNKNOWN'S BATTLEGROUNDS     PUBG Corporation  \n",
       "BATTLETECH                     Harebrained Schemes  \n",
       "DayZ                           Bohemia Interactive  \n",
       "EVE Online                                     CCP  "
      ]
     },
     "execution_count": 64,
     "metadata": {},
     "output_type": "execute_result"
    }
   ],
   "source": [
    "df_game_with_gener.head()"
   ]
  },
  {
   "cell_type": "markdown",
   "metadata": {},
   "source": [
    "### 🧹 Need to further clean up \n",
    "#### 🚩 So we keep only game titles with genre information and is in recommender DataFrame"
   ]
  },
  {
   "cell_type": "code",
   "execution_count": 65,
   "metadata": {},
   "outputs": [],
   "source": [
    "df_game_with_gener = df_game_with_gener[df_game_with_gener.index.isin(recommender_df.index)]"
   ]
  },
  {
   "cell_type": "code",
   "execution_count": 66,
   "metadata": {},
   "outputs": [
    {
     "data": {
      "text/plain": [
       "(1513, 4)"
      ]
     },
     "execution_count": 66,
     "metadata": {},
     "output_type": "execute_result"
    }
   ],
   "source": [
    "df_game_with_gener.shape"
   ]
  },
  {
   "cell_type": "code",
   "execution_count": 67,
   "metadata": {},
   "outputs": [
    {
     "data": {
      "text/html": [
       "<div>\n",
       "<style scoped>\n",
       "    .dataframe tbody tr th:only-of-type {\n",
       "        vertical-align: middle;\n",
       "    }\n",
       "\n",
       "    .dataframe tbody tr th {\n",
       "        vertical-align: top;\n",
       "    }\n",
       "\n",
       "    .dataframe thead th {\n",
       "        text-align: right;\n",
       "    }\n",
       "</style>\n",
       "<table border=\"1\" class=\"dataframe\">\n",
       "  <thead>\n",
       "    <tr style=\"text-align: right;\">\n",
       "      <th>title_str</th>\n",
       "      <th>Red Stone Online</th>\n",
       "      <th>Port of Call</th>\n",
       "      <th>Destination Sol</th>\n",
       "    </tr>\n",
       "  </thead>\n",
       "  <tbody>\n",
       "    <tr>\n",
       "      <th>url</th>\n",
       "      <td>https://store.steampowered.com/app/350700/Red_...</td>\n",
       "      <td>https://store.steampowered.com/app/356520/Port...</td>\n",
       "      <td>https://store.steampowered.com/app/342980/Dest...</td>\n",
       "    </tr>\n",
       "    <tr>\n",
       "      <th>types</th>\n",
       "      <td>app</td>\n",
       "      <td>app</td>\n",
       "      <td>app</td>\n",
       "    </tr>\n",
       "    <tr>\n",
       "      <th>genre</th>\n",
       "      <td>Free to Play,Massively Multiplayer,RPG</td>\n",
       "      <td>Adventure,Indie</td>\n",
       "      <td>Action,Free to Play,Indie,RPG</td>\n",
       "    </tr>\n",
       "    <tr>\n",
       "      <th>developer</th>\n",
       "      <td>L＆K CO., LTD</td>\n",
       "      <td>Underdog Games</td>\n",
       "      <td>MovingBlocks</td>\n",
       "    </tr>\n",
       "  </tbody>\n",
       "</table>\n",
       "</div>"
      ],
      "text/plain": [
       "title_str                                   Red Stone Online  \\\n",
       "url        https://store.steampowered.com/app/350700/Red_...   \n",
       "types                                                    app   \n",
       "genre                 Free to Play,Massively Multiplayer,RPG   \n",
       "developer                                       L＆K CO., LTD   \n",
       "\n",
       "title_str                                       Port of Call  \\\n",
       "url        https://store.steampowered.com/app/356520/Port...   \n",
       "types                                                    app   \n",
       "genre                                        Adventure,Indie   \n",
       "developer                                     Underdog Games   \n",
       "\n",
       "title_str                                    Destination Sol  \n",
       "url        https://store.steampowered.com/app/342980/Dest...  \n",
       "types                                                    app  \n",
       "genre                          Action,Free to Play,Indie,RPG  \n",
       "developer                                       MovingBlocks  "
      ]
     },
     "execution_count": 67,
     "metadata": {},
     "output_type": "execute_result"
    }
   ],
   "source": [
    "df_game_with_gener.sample(3).T"
   ]
  },
  {
   "cell_type": "markdown",
   "metadata": {},
   "source": [
    "### 📚 Get List of Genres AGAIN\n",
    "♻ Now the game titles got further cleaned up, there might be some genres no longer exists in the recommender system.\n",
    "In this case, we don't need those genres anymore. Thus, re-extract genre list, and save to the same file."
   ]
  },
  {
   "cell_type": "code",
   "execution_count": 68,
   "metadata": {},
   "outputs": [],
   "source": [
    "all_genres = [val.strip() for sublist in df_game_with_gener['genre'].dropna().str.split(\",\").tolist() for val in sublist]"
   ]
  },
  {
   "cell_type": "code",
   "execution_count": 69,
   "metadata": {},
   "outputs": [],
   "source": [
    "unique_genres = sorted(list(set(all_genres)))"
   ]
  },
  {
   "cell_type": "code",
   "execution_count": 70,
   "metadata": {},
   "outputs": [
    {
     "data": {
      "text/plain": [
       "22"
      ]
     },
     "execution_count": 70,
     "metadata": {},
     "output_type": "execute_result"
    }
   ],
   "source": [
    "len(unique_genres)"
   ]
  },
  {
   "cell_type": "code",
   "execution_count": 71,
   "metadata": {},
   "outputs": [
    {
     "name": "stdout",
     "output_type": "stream",
     "text": [
      "['Action', 'Adventure', 'Animation & Modeling', 'Audio Production', 'Casual']\n",
      "['Sports', 'Strategy', 'Utilities', 'Video Production', 'Web Publishing']\n"
     ]
    }
   ],
   "source": [
    "print(unique_genres[:5])\n",
    "print(unique_genres[-5:])"
   ]
  },
  {
   "cell_type": "code",
   "execution_count": 72,
   "metadata": {},
   "outputs": [],
   "source": [
    "with open('../data/genres.json', 'w') as wfh:\n",
    "    json.dump(unique_genres, wfh)"
   ]
  },
  {
   "cell_type": "code",
   "execution_count": 73,
   "metadata": {},
   "outputs": [],
   "source": [
    "# verify\n",
    "with open('../data/genres.json', 'r') as rfh:\n",
    "    loadedGenres = json.load(rfh)  "
   ]
  },
  {
   "cell_type": "markdown",
   "metadata": {},
   "source": [
    "### 🏭 Create & Try Test Function\n",
    "A function which return top 10 title close to the input title"
   ]
  },
  {
   "cell_type": "code",
   "execution_count": 74,
   "metadata": {},
   "outputs": [],
   "source": [
    "def similarGame(q):\n",
    "    titles = pivot_game[pivot_game.index.str.contains(q, flags=re.IGNORECASE)].index\n",
    "    for title in titles:\n",
    "        print(title)\n",
    "        print('Average hours played per player', round(pivot_game.loc[title, :].mean(), 2))\n",
    "        print('Number of players', pivot_game.T[title].count())\n",
    "        print('')\n",
    "        print('10 closest games - ranked by similarity distance')\n",
    "        top10 = recommender_df[title].sort_values()[1:11]\n",
    "        top10string = top10.to_string()\n",
    "        print(type(recommender_df[title].sort_values()[1:11]))\n",
    "        print(\"====>\")\n",
    "        print(top10string)\n",
    "        print(\"<====\")\n",
    "#         print(recommender_df[title].sort_values()[1:11])\n",
    "        print('')\n",
    "        print('***************************************************************')\n",
    "        print('')\n",
    "    print('done....')\n"
   ]
  },
  {
   "cell_type": "code",
   "execution_count": 75,
   "metadata": {
    "scrolled": false
   },
   "outputs": [
    {
     "name": "stdout",
     "output_type": "stream",
     "text": [
      "Famaze\n",
      "Average hours played per player 0.35\n",
      "Number of players 2\n",
      "\n",
      "10 closest games - ranked by similarity distance\n",
      "<class 'pandas.core.series.Series'>\n",
      "====>\n",
      "title_str\n",
      "Heavy Bullets                            0.200367\n",
      "Kung Fury                                0.319688\n",
      "Escape Machines                          0.400000\n",
      "Infect and Destroy                       0.400000\n",
      "Sunrider Academy                         0.400000\n",
      "Anomaly Warzone Earth Mobile Campaign    0.400000\n",
      "Spooky Cats                              0.400000\n",
      "Taxi                                     0.400000\n",
      "GamersGoMakers                           0.400000\n",
      "Buzz Aldrin's Space Program Manager      0.400000\n",
      "<====\n",
      "\n",
      "***************************************************************\n",
      "\n",
      "Fatty Maze's Adventures\n",
      "Average hours played per player 6.2\n",
      "Number of players 1\n",
      "\n",
      "10 closest games - ranked by similarity distance\n",
      "<class 'pandas.core.series.Series'>\n",
      "====>\n",
      "title_str\n",
      "Shiny The Firefly              0.0\n",
      "Fatty Maze's Adventures        0.0\n",
      "Stonerid                       0.0\n",
      "Amazing Princess Sarah         0.0\n",
      "Scarygirl                      0.0\n",
      "Breezeblox                     0.0\n",
      "Bard's Gold                    0.0\n",
      "Glare                          0.0\n",
      "Rooms The Unsolvable Puzzle    0.0\n",
      "Mr. Bree+                      0.0\n",
      "<====\n",
      "\n",
      "***************************************************************\n",
      "\n",
      "Freddi Fish and Luther's Maze Madness\n",
      "Average hours played per player 0.2\n",
      "Number of players 1\n",
      "\n",
      "10 closest games - ranked by similarity distance\n",
      "<class 'pandas.core.series.Series'>\n",
      "====>\n",
      "title_str\n",
      "Dream Pinball 3D                         0.000000\n",
      "FATE Undiscovered Realms                 0.000000\n",
      "Freddi Fish and Luther's Maze Madness    0.000000\n",
      "Driver San Francisco                     0.100680\n",
      "Sacred 2 Gold                            0.145471\n",
      "Crash Time II                            0.220404\n",
      "Tank Universal                           0.555556\n",
      "Scratches Director's Cut                 0.625537\n",
      "Legend of Dungeon                        0.672439\n",
      "Wasteland Angel                          0.698489\n",
      "<====\n",
      "\n",
      "***************************************************************\n",
      "\n",
      "done....\n"
     ]
    }
   ],
   "source": [
    "q = 'maze' #'Ball', 'Battle', 'Night', 'City', 'NBA', 'Hockey', 'treasure'\n",
    "similarGame(q)"
   ]
  },
  {
   "cell_type": "markdown",
   "metadata": {},
   "source": [
    "## 💽 Save to CSV for Remote Deployment"
   ]
  },
  {
   "cell_type": "markdown",
   "metadata": {},
   "source": [
    "🗜After performance is verfied, we will now save DataFrame into csv to be protable for depolyment."
   ]
  },
  {
   "cell_type": "code",
   "execution_count": 76,
   "metadata": {},
   "outputs": [],
   "source": [
    "compression_opts = dict(method='zip', archive_name='df_game_with_gener.csv')  \n",
    "df_game_with_gener.to_csv('../data/df_game_with_gener.zip', compression=compression_opts) "
   ]
  },
  {
   "cell_type": "code",
   "execution_count": 77,
   "metadata": {},
   "outputs": [],
   "source": [
    "loaded_df = pd.read_csv('../data/df_game_with_gener.zip', index_col=0, compression='zip')"
   ]
  },
  {
   "cell_type": "code",
   "execution_count": 78,
   "metadata": {},
   "outputs": [
    {
     "name": "stdout",
     "output_type": "stream",
     "text": [
      "(1513, 4)\n"
     ]
    }
   ],
   "source": [
    "print(df_game_with_gener.shape)"
   ]
  },
  {
   "cell_type": "code",
   "execution_count": 79,
   "metadata": {},
   "outputs": [
    {
     "data": {
      "text/plain": [
       "Index(['url', 'types', 'genre', 'developer'], dtype='object')"
      ]
     },
     "execution_count": 79,
     "metadata": {},
     "output_type": "execute_result"
    }
   ],
   "source": [
    "df_game_with_gener.columns"
   ]
  },
  {
   "cell_type": "code",
   "execution_count": 80,
   "metadata": {},
   "outputs": [
    {
     "name": "stdout",
     "output_type": "stream",
     "text": [
      "(1513, 4)\n"
     ]
    }
   ],
   "source": [
    "print(loaded_df.shape)"
   ]
  },
  {
   "cell_type": "code",
   "execution_count": 81,
   "metadata": {},
   "outputs": [
    {
     "data": {
      "text/plain": [
       "Index(['url', 'types', 'genre', 'developer'], dtype='object')"
      ]
     },
     "execution_count": 81,
     "metadata": {},
     "output_type": "execute_result"
    }
   ],
   "source": [
    "loaded_df.columns"
   ]
  },
  {
   "cell_type": "code",
   "execution_count": 82,
   "metadata": {},
   "outputs": [
    {
     "data": {
      "text/plain": [
       "['url', 'types', 'genre', 'developer']"
      ]
     },
     "execution_count": 82,
     "metadata": {},
     "output_type": "execute_result"
    }
   ],
   "source": [
    "list(loaded_df.columns)"
   ]
  },
  {
   "cell_type": "code",
   "execution_count": 83,
   "metadata": {},
   "outputs": [
    {
     "name": "stdout",
     "output_type": "stream",
     "text": [
      "Index(['DayZ', 'EVE Online', 'TERA'], dtype='object', name='title_str')\n",
      "Index(['DayZ', 'EVE Online', 'TERA'], dtype='object', name='title_str')\n"
     ]
    }
   ],
   "source": [
    "print(df_game_with_gener.iloc[:3,:].index)\n",
    "print(loaded_df.iloc[:3,:].index)"
   ]
  },
  {
   "cell_type": "code",
   "execution_count": 84,
   "metadata": {},
   "outputs": [
    {
     "data": {
      "text/html": [
       "<div>\n",
       "<style scoped>\n",
       "    .dataframe tbody tr th:only-of-type {\n",
       "        vertical-align: middle;\n",
       "    }\n",
       "\n",
       "    .dataframe tbody tr th {\n",
       "        vertical-align: top;\n",
       "    }\n",
       "\n",
       "    .dataframe thead th {\n",
       "        text-align: right;\n",
       "    }\n",
       "</style>\n",
       "<table border=\"1\" class=\"dataframe\">\n",
       "  <thead>\n",
       "    <tr style=\"text-align: right;\">\n",
       "      <th>title_str</th>\n",
       "      <th>Wildlife Park 3</th>\n",
       "      <th>Flesh Eaters</th>\n",
       "      <th>Farming Giant</th>\n",
       "    </tr>\n",
       "  </thead>\n",
       "  <tbody>\n",
       "    <tr>\n",
       "      <th>url</th>\n",
       "      <td>https://store.steampowered.com/app/287200/Wild...</td>\n",
       "      <td>https://store.steampowered.com/app/383580/Fles...</td>\n",
       "      <td>https://store.steampowered.com/app/259910/Farm...</td>\n",
       "    </tr>\n",
       "    <tr>\n",
       "      <th>types</th>\n",
       "      <td>app</td>\n",
       "      <td>app</td>\n",
       "      <td>app</td>\n",
       "    </tr>\n",
       "    <tr>\n",
       "      <th>genre</th>\n",
       "      <td>Casual,Indie,Simulation,Strategy</td>\n",
       "      <td>Action,Adventure,Indie,RPG,Simulation</td>\n",
       "      <td>Simulation</td>\n",
       "    </tr>\n",
       "    <tr>\n",
       "      <th>developer</th>\n",
       "      <td>b-alive gmbh</td>\n",
       "      <td>S.C. 16 BIT NIGHTS S.R.L.</td>\n",
       "      <td>Actalogic</td>\n",
       "    </tr>\n",
       "  </tbody>\n",
       "</table>\n",
       "</div>"
      ],
      "text/plain": [
       "title_str                                    Wildlife Park 3  \\\n",
       "url        https://store.steampowered.com/app/287200/Wild...   \n",
       "types                                                    app   \n",
       "genre                       Casual,Indie,Simulation,Strategy   \n",
       "developer                                       b-alive gmbh   \n",
       "\n",
       "title_str                                       Flesh Eaters  \\\n",
       "url        https://store.steampowered.com/app/383580/Fles...   \n",
       "types                                                    app   \n",
       "genre                  Action,Adventure,Indie,RPG,Simulation   \n",
       "developer                          S.C. 16 BIT NIGHTS S.R.L.   \n",
       "\n",
       "title_str                                      Farming Giant  \n",
       "url        https://store.steampowered.com/app/259910/Farm...  \n",
       "types                                                    app  \n",
       "genre                                             Simulation  \n",
       "developer                                          Actalogic  "
      ]
     },
     "execution_count": 84,
     "metadata": {},
     "output_type": "execute_result"
    }
   ],
   "source": [
    "loaded_df.sample(3).T"
   ]
  },
  {
   "cell_type": "code",
   "execution_count": 85,
   "metadata": {},
   "outputs": [],
   "source": [
    "# print(type(recommender_df))"
   ]
  },
  {
   "cell_type": "code",
   "execution_count": 86,
   "metadata": {
    "scrolled": true
   },
   "outputs": [],
   "source": [
    "# with open('../data/recommender_df.json', 'w') as fp:\n",
    "#     json.dump(recommender_df, fp)"
   ]
  },
  {
   "cell_type": "markdown",
   "metadata": {},
   "source": [
    "### 🛠 Merge User Behavior & Game Tiltle DataFrame"
   ]
  },
  {
   "cell_type": "markdown",
   "metadata": {},
   "source": [
    "🚧This section is only an experiment to see if I can minimize the data upload to deployment target, e.g. Heroku, by merging multiple DataFrame together.\n",
    "Somehow slice() does not work for a function only need partial of the DataFrame given the column names in pivot table.\n",
    "\n",
    "🚑Need further investigation to figure out how."
   ]
  },
  {
   "cell_type": "code",
   "execution_count": 87,
   "metadata": {},
   "outputs": [
    {
     "data": {
      "text/html": [
       "<div>\n",
       "<style scoped>\n",
       "    .dataframe tbody tr th:only-of-type {\n",
       "        vertical-align: middle;\n",
       "    }\n",
       "\n",
       "    .dataframe tbody tr th {\n",
       "        vertical-align: top;\n",
       "    }\n",
       "\n",
       "    .dataframe thead th {\n",
       "        text-align: right;\n",
       "    }\n",
       "</style>\n",
       "<table border=\"1\" class=\"dataframe\">\n",
       "  <thead>\n",
       "    <tr style=\"text-align: right;\">\n",
       "      <th>user_id</th>\n",
       "      <th>5250</th>\n",
       "      <th>76767</th>\n",
       "      <th>86540</th>\n",
       "      <th>144736</th>\n",
       "      <th>181212</th>\n",
       "      <th>229911</th>\n",
       "      <th>298950</th>\n",
       "      <th>381543</th>\n",
       "      <th>547685</th>\n",
       "      <th>554278</th>\n",
       "      <th>...</th>\n",
       "      <th>309228590</th>\n",
       "      <th>309255941</th>\n",
       "      <th>309262440</th>\n",
       "      <th>309265377</th>\n",
       "      <th>309404240</th>\n",
       "      <th>309434439</th>\n",
       "      <th>309554670</th>\n",
       "      <th>309626088</th>\n",
       "      <th>309824202</th>\n",
       "      <th>309903146</th>\n",
       "    </tr>\n",
       "    <tr>\n",
       "      <th>title_str</th>\n",
       "      <th></th>\n",
       "      <th></th>\n",
       "      <th></th>\n",
       "      <th></th>\n",
       "      <th></th>\n",
       "      <th></th>\n",
       "      <th></th>\n",
       "      <th></th>\n",
       "      <th></th>\n",
       "      <th></th>\n",
       "      <th></th>\n",
       "      <th></th>\n",
       "      <th></th>\n",
       "      <th></th>\n",
       "      <th></th>\n",
       "      <th></th>\n",
       "      <th></th>\n",
       "      <th></th>\n",
       "      <th></th>\n",
       "      <th></th>\n",
       "      <th></th>\n",
       "    </tr>\n",
       "  </thead>\n",
       "  <tbody>\n",
       "    <tr>\n",
       "      <th>Virtua Tennis 4</th>\n",
       "      <td>NaN</td>\n",
       "      <td>NaN</td>\n",
       "      <td>NaN</td>\n",
       "      <td>NaN</td>\n",
       "      <td>NaN</td>\n",
       "      <td>NaN</td>\n",
       "      <td>NaN</td>\n",
       "      <td>NaN</td>\n",
       "      <td>NaN</td>\n",
       "      <td>NaN</td>\n",
       "      <td>...</td>\n",
       "      <td>NaN</td>\n",
       "      <td>NaN</td>\n",
       "      <td>NaN</td>\n",
       "      <td>NaN</td>\n",
       "      <td>NaN</td>\n",
       "      <td>NaN</td>\n",
       "      <td>NaN</td>\n",
       "      <td>NaN</td>\n",
       "      <td>NaN</td>\n",
       "      <td>NaN</td>\n",
       "    </tr>\n",
       "  </tbody>\n",
       "</table>\n",
       "<p>1 rows × 11350 columns</p>\n",
       "</div>"
      ],
      "text/plain": [
       "user_id          5250       76767      86540      144736     181212     \\\n",
       "title_str                                                                \n",
       "Virtua Tennis 4        NaN        NaN        NaN        NaN        NaN   \n",
       "\n",
       "user_id          229911     298950     381543     547685     554278     ...  \\\n",
       "title_str                                                               ...   \n",
       "Virtua Tennis 4        NaN        NaN        NaN        NaN        NaN  ...   \n",
       "\n",
       "user_id          309228590  309255941  309262440  309265377  309404240  \\\n",
       "title_str                                                                \n",
       "Virtua Tennis 4        NaN        NaN        NaN        NaN        NaN   \n",
       "\n",
       "user_id          309434439  309554670  309626088  309824202  309903146  \n",
       "title_str                                                               \n",
       "Virtua Tennis 4        NaN        NaN        NaN        NaN        NaN  \n",
       "\n",
       "[1 rows x 11350 columns]"
      ]
     },
     "execution_count": 87,
     "metadata": {},
     "output_type": "execute_result"
    }
   ],
   "source": [
    "pivot_game.sample()"
   ]
  },
  {
   "cell_type": "code",
   "execution_count": 88,
   "metadata": {},
   "outputs": [
    {
     "data": {
      "text/html": [
       "<div>\n",
       "<style scoped>\n",
       "    .dataframe tbody tr th:only-of-type {\n",
       "        vertical-align: middle;\n",
       "    }\n",
       "\n",
       "    .dataframe tbody tr th {\n",
       "        vertical-align: top;\n",
       "    }\n",
       "\n",
       "    .dataframe thead th {\n",
       "        text-align: right;\n",
       "    }\n",
       "</style>\n",
       "<table border=\"1\" class=\"dataframe\">\n",
       "  <thead>\n",
       "    <tr style=\"text-align: right;\">\n",
       "      <th></th>\n",
       "      <th>url</th>\n",
       "      <th>types</th>\n",
       "      <th>genre</th>\n",
       "      <th>developer</th>\n",
       "    </tr>\n",
       "    <tr>\n",
       "      <th>title_str</th>\n",
       "      <th></th>\n",
       "      <th></th>\n",
       "      <th></th>\n",
       "      <th></th>\n",
       "    </tr>\n",
       "  </thead>\n",
       "  <tbody>\n",
       "    <tr>\n",
       "      <th>Trackmania® Turbo</th>\n",
       "      <td>https://store.steampowered.com/app/375900/Trac...</td>\n",
       "      <td>app</td>\n",
       "      <td>Massively Multiplayer,Racing</td>\n",
       "      <td>Nadeo</td>\n",
       "    </tr>\n",
       "  </tbody>\n",
       "</table>\n",
       "</div>"
      ],
      "text/plain": [
       "                                                                 url types  \\\n",
       "title_str                                                                    \n",
       "Trackmania® Turbo  https://store.steampowered.com/app/375900/Trac...   app   \n",
       "\n",
       "                                          genre developer  \n",
       "title_str                                                  \n",
       "Trackmania® Turbo  Massively Multiplayer,Racing     Nadeo  "
      ]
     },
     "execution_count": 88,
     "metadata": {},
     "output_type": "execute_result"
    }
   ],
   "source": [
    "df_game_short.sample()"
   ]
  },
  {
   "cell_type": "code",
   "execution_count": 89,
   "metadata": {},
   "outputs": [],
   "source": [
    "df_merge = df_game_short.merge(pivot_game, left_index=True, right_index=True)\n",
    "# df_merge = pivot_game.merge(df_game_short, left_index=True, right_index=True)\n",
    "# df_merge.set_index('title_str',inplace=True)\n",
    "# pivot_game.reset_index().merge(df_game_short, how=\"left\").set_index('index')\n",
    "# df_game_short['copy_index'] = df_game_short['title_str'] \n",
    "# pivot_game['copy_index'] = pivot_game.index\n",
    "# df_merged = pivot_game.merge(df_game_short, how='left', on='copy_index')"
   ]
  },
  {
   "cell_type": "code",
   "execution_count": 90,
   "metadata": {},
   "outputs": [
    {
     "data": {
      "text/html": [
       "<div>\n",
       "<style scoped>\n",
       "    .dataframe tbody tr th:only-of-type {\n",
       "        vertical-align: middle;\n",
       "    }\n",
       "\n",
       "    .dataframe tbody tr th {\n",
       "        vertical-align: top;\n",
       "    }\n",
       "\n",
       "    .dataframe thead th {\n",
       "        text-align: right;\n",
       "    }\n",
       "</style>\n",
       "<table border=\"1\" class=\"dataframe\">\n",
       "  <thead>\n",
       "    <tr style=\"text-align: right;\">\n",
       "      <th></th>\n",
       "      <th>url</th>\n",
       "      <th>types</th>\n",
       "      <th>genre</th>\n",
       "      <th>developer</th>\n",
       "      <th>5250</th>\n",
       "      <th>76767</th>\n",
       "      <th>86540</th>\n",
       "      <th>144736</th>\n",
       "      <th>181212</th>\n",
       "      <th>229911</th>\n",
       "      <th>...</th>\n",
       "      <th>309228590</th>\n",
       "      <th>309255941</th>\n",
       "      <th>309262440</th>\n",
       "      <th>309265377</th>\n",
       "      <th>309404240</th>\n",
       "      <th>309434439</th>\n",
       "      <th>309554670</th>\n",
       "      <th>309626088</th>\n",
       "      <th>309824202</th>\n",
       "      <th>309903146</th>\n",
       "    </tr>\n",
       "    <tr>\n",
       "      <th>title_str</th>\n",
       "      <th></th>\n",
       "      <th></th>\n",
       "      <th></th>\n",
       "      <th></th>\n",
       "      <th></th>\n",
       "      <th></th>\n",
       "      <th></th>\n",
       "      <th></th>\n",
       "      <th></th>\n",
       "      <th></th>\n",
       "      <th></th>\n",
       "      <th></th>\n",
       "      <th></th>\n",
       "      <th></th>\n",
       "      <th></th>\n",
       "      <th></th>\n",
       "      <th></th>\n",
       "      <th></th>\n",
       "      <th></th>\n",
       "      <th></th>\n",
       "      <th></th>\n",
       "    </tr>\n",
       "  </thead>\n",
       "  <tbody>\n",
       "    <tr>\n",
       "      <th>New kind of adventure</th>\n",
       "      <td>https://store.steampowered.com/app/375510/New_...</td>\n",
       "      <td>app</td>\n",
       "      <td>Adventure,Indie,RPG,Early Access</td>\n",
       "      <td>Mint Age Studios</td>\n",
       "      <td>NaN</td>\n",
       "      <td>NaN</td>\n",
       "      <td>NaN</td>\n",
       "      <td>NaN</td>\n",
       "      <td>NaN</td>\n",
       "      <td>NaN</td>\n",
       "      <td>...</td>\n",
       "      <td>NaN</td>\n",
       "      <td>NaN</td>\n",
       "      <td>NaN</td>\n",
       "      <td>NaN</td>\n",
       "      <td>NaN</td>\n",
       "      <td>NaN</td>\n",
       "      <td>NaN</td>\n",
       "      <td>NaN</td>\n",
       "      <td>NaN</td>\n",
       "      <td>NaN</td>\n",
       "    </tr>\n",
       "  </tbody>\n",
       "</table>\n",
       "<p>1 rows × 11354 columns</p>\n",
       "</div>"
      ],
      "text/plain": [
       "                                                                     url  \\\n",
       "title_str                                                                  \n",
       "New kind of adventure  https://store.steampowered.com/app/375510/New_...   \n",
       "\n",
       "                      types                             genre  \\\n",
       "title_str                                                       \n",
       "New kind of adventure   app  Adventure,Indie,RPG,Early Access   \n",
       "\n",
       "                              developer  5250  76767  86540  144736  181212  \\\n",
       "title_str                                                                     \n",
       "New kind of adventure  Mint Age Studios   NaN    NaN    NaN     NaN     NaN   \n",
       "\n",
       "                       229911  ...  309228590  309255941  309262440  \\\n",
       "title_str                      ...                                    \n",
       "New kind of adventure     NaN  ...        NaN        NaN        NaN   \n",
       "\n",
       "                       309265377  309404240  309434439  309554670  309626088  \\\n",
       "title_str                                                                      \n",
       "New kind of adventure        NaN        NaN        NaN        NaN        NaN   \n",
       "\n",
       "                       309824202  309903146  \n",
       "title_str                                    \n",
       "New kind of adventure        NaN        NaN  \n",
       "\n",
       "[1 rows x 11354 columns]"
      ]
     },
     "execution_count": 90,
     "metadata": {},
     "output_type": "execute_result"
    }
   ],
   "source": [
    "df_merge.sample()"
   ]
  },
  {
   "cell_type": "code",
   "execution_count": 91,
   "metadata": {
    "scrolled": true
   },
   "outputs": [],
   "source": [
    "def newSimilarGame(q):\n",
    "    titles = df_merge[df_merge.index.str.contains(q, flags=re.IGNORECASE)].index\n",
    "    for title in titles:\n",
    "        print(title)\n",
    "        print(df_merge.loc[title,['genre','url']])\n",
    "        print('Average hours played per player', round(pivot_game.loc[title,:].mean(), 2))\n",
    "        print('Number of players', pivot_game.T[title].count())\n",
    "        print('')\n",
    "        print('10 closest games - ranked by similarity Distance')\n",
    "        print(recommender_df[title].sort_values()[1:11])\n",
    "        print('')\n",
    "        print('***************************************************************')\n",
    "#         print('')\n",
    "    print('done....')"
   ]
  },
  {
   "cell_type": "code",
   "execution_count": 92,
   "metadata": {},
   "outputs": [],
   "source": [
    "# def recommendTitles(title):\n",
    "#     titles = recommender_df[title].sort_values()[1:20]\n",
    "#     counter = 0\n",
    "#     for title in titles:\n",
    "        "
   ]
  },
  {
   "cell_type": "code",
   "execution_count": 93,
   "metadata": {},
   "outputs": [
    {
     "name": "stdout",
     "output_type": "stream",
     "text": [
      "Famaze\n",
      "genre               Casual,Free to Play,Indie,RPG,Strategy\n",
      "url      https://store.steampowered.com/app/297210/Famaze/\n",
      "Name: Famaze, dtype: object\n",
      "Average hours played per player 0.35\n",
      "Number of players 2\n",
      "\n",
      "10 closest games - ranked by similarity Distance\n",
      "title_str\n",
      "Heavy Bullets                            0.200367\n",
      "Kung Fury                                0.319688\n",
      "Escape Machines                          0.400000\n",
      "Infect and Destroy                       0.400000\n",
      "Sunrider Academy                         0.400000\n",
      "Anomaly Warzone Earth Mobile Campaign    0.400000\n",
      "Spooky Cats                              0.400000\n",
      "Taxi                                     0.400000\n",
      "GamersGoMakers                           0.400000\n",
      "Buzz Aldrin's Space Program Manager      0.400000\n",
      "Name: Famaze, dtype: float64\n",
      "\n",
      "***************************************************************\n",
      "Fatty Maze's Adventures\n",
      "genre                    Adventure,Casual,Indie,Simulation\n",
      "url      https://store.steampowered.com/app/349780/Fatt...\n",
      "Name: Fatty Maze's Adventures, dtype: object\n",
      "Average hours played per player 6.2\n",
      "Number of players 1\n",
      "\n",
      "10 closest games - ranked by similarity Distance\n",
      "title_str\n",
      "Shiny The Firefly              0.0\n",
      "Fatty Maze's Adventures        0.0\n",
      "Stonerid                       0.0\n",
      "Amazing Princess Sarah         0.0\n",
      "Scarygirl                      0.0\n",
      "Breezeblox                     0.0\n",
      "Bard's Gold                    0.0\n",
      "Glare                          0.0\n",
      "Rooms The Unsolvable Puzzle    0.0\n",
      "Mr. Bree+                      0.0\n",
      "Name: Fatty Maze's Adventures, dtype: float64\n",
      "\n",
      "***************************************************************\n",
      "Freddi Fish and Luther's Maze Madness\n",
      "genre                                     Adventure,Casual\n",
      "url      https://store.steampowered.com/app/284020/Fred...\n",
      "Name: Freddi Fish and Luther's Maze Madness, dtype: object\n",
      "Average hours played per player 0.2\n",
      "Number of players 1\n",
      "\n",
      "10 closest games - ranked by similarity Distance\n",
      "title_str\n",
      "Dream Pinball 3D                         0.000000\n",
      "FATE Undiscovered Realms                 0.000000\n",
      "Freddi Fish and Luther's Maze Madness    0.000000\n",
      "Driver San Francisco                     0.100680\n",
      "Sacred 2 Gold                            0.145471\n",
      "Crash Time II                            0.220404\n",
      "Tank Universal                           0.555556\n",
      "Scratches Director's Cut                 0.625537\n",
      "Legend of Dungeon                        0.672439\n",
      "Wasteland Angel                          0.698489\n",
      "Name: Freddi Fish and Luther's Maze Madness, dtype: float64\n",
      "\n",
      "***************************************************************\n",
      "done....\n"
     ]
    }
   ],
   "source": [
    "q = 'maze' #'Ball', 'Battle', 'Night', 'City', 'NBA', 'Hockey', 'treasure'\n",
    "newSimilarGame(q)"
   ]
  }
 ],
 "metadata": {
  "kernelspec": {
   "display_name": "Python 3",
   "language": "python",
   "name": "python3"
  },
  "language_info": {
   "codemirror_mode": {
    "name": "ipython",
    "version": 3
   },
   "file_extension": ".py",
   "mimetype": "text/x-python",
   "name": "python",
   "nbconvert_exporter": "python",
   "pygments_lexer": "ipython3",
   "version": "3.8.5"
  }
 },
 "nbformat": 4,
 "nbformat_minor": 4
}
